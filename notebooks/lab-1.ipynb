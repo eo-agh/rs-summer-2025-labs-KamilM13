{
 "cells": [
  {
   "cell_type": "markdown",
   "id": "6a35dba3",
   "metadata": {},
   "source": [
    "# Laboratory Exercise 1: Introduction to Google Earth Engine (GEE)\n",
    "In this lab, you will learn how to initialize Google Earth Engine (GEE), select satellite images, visualize data, and analyze basic metadata."
   ]
  },
  {
   "cell_type": "markdown",
   "id": "1c5f6c68",
   "metadata": {},
   "source": [
    "## Task 1: Initialize Google Earth Engine\n",
    "Authenticate and initialize the Google Earth Engine (GEE) API."
   ]
  },
  {
   "cell_type": "code",
   "execution_count": 43,
   "id": "2dbfdbda",
   "metadata": {},
   "outputs": [
    {
     "data": {
      "text/html": [
       "\n",
       "            <style>\n",
       "                .geemap-dark {\n",
       "                    --jp-widgets-color: white;\n",
       "                    --jp-widgets-label-color: white;\n",
       "                    --jp-ui-font-color1: white;\n",
       "                    --jp-layout-color2: #454545;\n",
       "                    background-color: #383838;\n",
       "                }\n",
       "\n",
       "                .geemap-dark .jupyter-button {\n",
       "                    --jp-layout-color3: #383838;\n",
       "                }\n",
       "\n",
       "                .geemap-colab {\n",
       "                    background-color: var(--colab-primary-surface-color, white);\n",
       "                }\n",
       "\n",
       "                .geemap-colab .jupyter-button {\n",
       "                    --jp-layout-color3: var(--colab-primary-surface-color, white);\n",
       "                }\n",
       "            </style>\n",
       "            "
      ],
      "text/plain": [
       "<IPython.core.display.HTML object>"
      ]
     },
     "metadata": {},
     "output_type": "display_data"
    }
   ],
   "source": [
    "import ee\n",
    "# Authenticate and initialize GEE\n",
    "# TODO: Use the Earth Engine library to authenticate and initialize your session\n",
    "ee.Authenticate()\n",
    "ee.Initialize(project='ee-kamilmolo13')\n"
   ]
  },
  {
   "cell_type": "markdown",
   "id": "7b7d36d4",
   "metadata": {},
   "source": [
    "## Task 2: Define Area of Interest (AOI)\n",
    "Define your area of interest (AOI). You can use either a point or a bounding box.\n",
    "Example coordinates are provided below (Krakow, Poland). Adjust them for your location."
   ]
  },
  {
   "cell_type": "code",
   "execution_count": 44,
   "id": "75f06d59",
   "metadata": {},
   "outputs": [
    {
     "data": {
      "text/html": [
       "\n",
       "            <style>\n",
       "                .geemap-dark {\n",
       "                    --jp-widgets-color: white;\n",
       "                    --jp-widgets-label-color: white;\n",
       "                    --jp-ui-font-color1: white;\n",
       "                    --jp-layout-color2: #454545;\n",
       "                    background-color: #383838;\n",
       "                }\n",
       "\n",
       "                .geemap-dark .jupyter-button {\n",
       "                    --jp-layout-color3: #383838;\n",
       "                }\n",
       "\n",
       "                .geemap-colab {\n",
       "                    background-color: var(--colab-primary-surface-color, white);\n",
       "                }\n",
       "\n",
       "                .geemap-colab .jupyter-button {\n",
       "                    --jp-layout-color3: var(--colab-primary-surface-color, white);\n",
       "                }\n",
       "            </style>\n",
       "            "
      ],
      "text/plain": [
       "<IPython.core.display.HTML object>"
      ]
     },
     "metadata": {},
     "output_type": "display_data"
    }
   ],
   "source": [
    "# Define AOI\n",
    "# TODO: Replace with your coordinates\n",
    "aoi = ee.Geometry.Point([23.53, 50.54])\n",
    "# or\n",
    "# aoi = ee.Geometry.Rectangle([west, south, east, north])"
   ]
  },
  {
   "cell_type": "markdown",
   "id": "fc029d60",
   "metadata": {},
   "source": [
    "## Task 3: Retrieve Sentinel-2 Data\n",
    "Retrieve Sentinel-2 imagery for your defined AOI within a specific date range. Sort the images based on cloud cover percentage."
   ]
  },
  {
   "cell_type": "code",
   "execution_count": 45,
   "id": "5e08ded8",
   "metadata": {},
   "outputs": [
    {
     "data": {
      "text/html": [
       "\n",
       "            <style>\n",
       "                .geemap-dark {\n",
       "                    --jp-widgets-color: white;\n",
       "                    --jp-widgets-label-color: white;\n",
       "                    --jp-ui-font-color1: white;\n",
       "                    --jp-layout-color2: #454545;\n",
       "                    background-color: #383838;\n",
       "                }\n",
       "\n",
       "                .geemap-dark .jupyter-button {\n",
       "                    --jp-layout-color3: #383838;\n",
       "                }\n",
       "\n",
       "                .geemap-colab {\n",
       "                    background-color: var(--colab-primary-surface-color, white);\n",
       "                }\n",
       "\n",
       "                .geemap-colab .jupyter-button {\n",
       "                    --jp-layout-color3: var(--colab-primary-surface-color, white);\n",
       "                }\n",
       "            </style>\n",
       "            "
      ],
      "text/plain": [
       "<IPython.core.display.HTML object>"
      ]
     },
     "metadata": {},
     "output_type": "display_data"
    },
    {
     "data": {
      "text/plain": [
       "{'type': 'Image',\n",
       " 'bands': [{'id': 'B1',\n",
       "   'data_type': {'type': 'PixelType',\n",
       "    'precision': 'int',\n",
       "    'min': 0,\n",
       "    'max': 65535},\n",
       "   'dimensions': [1830, 1830],\n",
       "   'crs': 'EPSG:32634',\n",
       "   'crs_transform': [60, 0, 600000, 0, -60, 5700000]},\n",
       "  {'id': 'B2',\n",
       "   'data_type': {'type': 'PixelType',\n",
       "    'precision': 'int',\n",
       "    'min': 0,\n",
       "    'max': 65535},\n",
       "   'dimensions': [10980, 10980],\n",
       "   'crs': 'EPSG:32634',\n",
       "   'crs_transform': [10, 0, 600000, 0, -10, 5700000]},\n",
       "  {'id': 'B3',\n",
       "   'data_type': {'type': 'PixelType',\n",
       "    'precision': 'int',\n",
       "    'min': 0,\n",
       "    'max': 65535},\n",
       "   'dimensions': [10980, 10980],\n",
       "   'crs': 'EPSG:32634',\n",
       "   'crs_transform': [10, 0, 600000, 0, -10, 5700000]},\n",
       "  {'id': 'B4',\n",
       "   'data_type': {'type': 'PixelType',\n",
       "    'precision': 'int',\n",
       "    'min': 0,\n",
       "    'max': 65535},\n",
       "   'dimensions': [10980, 10980],\n",
       "   'crs': 'EPSG:32634',\n",
       "   'crs_transform': [10, 0, 600000, 0, -10, 5700000]},\n",
       "  {'id': 'B5',\n",
       "   'data_type': {'type': 'PixelType',\n",
       "    'precision': 'int',\n",
       "    'min': 0,\n",
       "    'max': 65535},\n",
       "   'dimensions': [5490, 5490],\n",
       "   'crs': 'EPSG:32634',\n",
       "   'crs_transform': [20, 0, 600000, 0, -20, 5700000]},\n",
       "  {'id': 'B6',\n",
       "   'data_type': {'type': 'PixelType',\n",
       "    'precision': 'int',\n",
       "    'min': 0,\n",
       "    'max': 65535},\n",
       "   'dimensions': [5490, 5490],\n",
       "   'crs': 'EPSG:32634',\n",
       "   'crs_transform': [20, 0, 600000, 0, -20, 5700000]},\n",
       "  {'id': 'B7',\n",
       "   'data_type': {'type': 'PixelType',\n",
       "    'precision': 'int',\n",
       "    'min': 0,\n",
       "    'max': 65535},\n",
       "   'dimensions': [5490, 5490],\n",
       "   'crs': 'EPSG:32634',\n",
       "   'crs_transform': [20, 0, 600000, 0, -20, 5700000]},\n",
       "  {'id': 'B8',\n",
       "   'data_type': {'type': 'PixelType',\n",
       "    'precision': 'int',\n",
       "    'min': 0,\n",
       "    'max': 65535},\n",
       "   'dimensions': [10980, 10980],\n",
       "   'crs': 'EPSG:32634',\n",
       "   'crs_transform': [10, 0, 600000, 0, -10, 5700000]},\n",
       "  {'id': 'B8A',\n",
       "   'data_type': {'type': 'PixelType',\n",
       "    'precision': 'int',\n",
       "    'min': 0,\n",
       "    'max': 65535},\n",
       "   'dimensions': [5490, 5490],\n",
       "   'crs': 'EPSG:32634',\n",
       "   'crs_transform': [20, 0, 600000, 0, -20, 5700000]},\n",
       "  {'id': 'B9',\n",
       "   'data_type': {'type': 'PixelType',\n",
       "    'precision': 'int',\n",
       "    'min': 0,\n",
       "    'max': 65535},\n",
       "   'dimensions': [1830, 1830],\n",
       "   'crs': 'EPSG:32634',\n",
       "   'crs_transform': [60, 0, 600000, 0, -60, 5700000]},\n",
       "  {'id': 'B10',\n",
       "   'data_type': {'type': 'PixelType',\n",
       "    'precision': 'int',\n",
       "    'min': 0,\n",
       "    'max': 65535},\n",
       "   'dimensions': [1830, 1830],\n",
       "   'crs': 'EPSG:32634',\n",
       "   'crs_transform': [60, 0, 600000, 0, -60, 5700000]},\n",
       "  {'id': 'B11',\n",
       "   'data_type': {'type': 'PixelType',\n",
       "    'precision': 'int',\n",
       "    'min': 0,\n",
       "    'max': 65535},\n",
       "   'dimensions': [5490, 5490],\n",
       "   'crs': 'EPSG:32634',\n",
       "   'crs_transform': [20, 0, 600000, 0, -20, 5700000]},\n",
       "  {'id': 'B12',\n",
       "   'data_type': {'type': 'PixelType',\n",
       "    'precision': 'int',\n",
       "    'min': 0,\n",
       "    'max': 65535},\n",
       "   'dimensions': [5490, 5490],\n",
       "   'crs': 'EPSG:32634',\n",
       "   'crs_transform': [20, 0, 600000, 0, -20, 5700000]},\n",
       "  {'id': 'QA10',\n",
       "   'data_type': {'type': 'PixelType',\n",
       "    'precision': 'int',\n",
       "    'min': 0,\n",
       "    'max': 65535},\n",
       "   'dimensions': [10980, 10980],\n",
       "   'crs': 'EPSG:32634',\n",
       "   'crs_transform': [10, 0, 600000, 0, -10, 5700000]},\n",
       "  {'id': 'QA20',\n",
       "   'data_type': {'type': 'PixelType',\n",
       "    'precision': 'int',\n",
       "    'min': 0,\n",
       "    'max': 4294967295},\n",
       "   'dimensions': [5490, 5490],\n",
       "   'crs': 'EPSG:32634',\n",
       "   'crs_transform': [20, 0, 600000, 0, -20, 5700000]},\n",
       "  {'id': 'QA60',\n",
       "   'data_type': {'type': 'PixelType',\n",
       "    'precision': 'int',\n",
       "    'min': 0,\n",
       "    'max': 65535},\n",
       "   'dimensions': [1830, 1830],\n",
       "   'crs': 'EPSG:32634',\n",
       "   'crs_transform': [60, 0, 600000, 0, -60, 5700000]},\n",
       "  {'id': 'MSK_CLASSI_OPAQUE',\n",
       "   'data_type': {'type': 'PixelType',\n",
       "    'precision': 'int',\n",
       "    'min': 0,\n",
       "    'max': 255},\n",
       "   'crs': 'EPSG:4326',\n",
       "   'crs_transform': [1, 0, 0, 0, 1, 0]},\n",
       "  {'id': 'MSK_CLASSI_CIRRUS',\n",
       "   'data_type': {'type': 'PixelType',\n",
       "    'precision': 'int',\n",
       "    'min': 0,\n",
       "    'max': 255},\n",
       "   'crs': 'EPSG:4326',\n",
       "   'crs_transform': [1, 0, 0, 0, 1, 0]},\n",
       "  {'id': 'MSK_CLASSI_SNOW_ICE',\n",
       "   'data_type': {'type': 'PixelType',\n",
       "    'precision': 'int',\n",
       "    'min': 0,\n",
       "    'max': 255},\n",
       "   'crs': 'EPSG:4326',\n",
       "   'crs_transform': [1, 0, 0, 0, 1, 0]}],\n",
       " 'version': 1742392503687239,\n",
       " 'id': 'COPERNICUS/S2_HARMONIZED/20200107T093351_20200107T093353_T34UFB',\n",
       " 'properties': {'DATATAKE_IDENTIFIER': 'GS2A_20200107T093351_023728_N02.08',\n",
       "  'SPACECRAFT_NAME': 'Sentinel-2A',\n",
       "  'MEAN_INCIDENCE_AZIMUTH_ANGLE_B8A': 102.125118578,\n",
       "  'MEAN_SOLAR_AZIMUTH_ANGLE': 166.36602622,\n",
       "  'system:footprint': {'type': 'LinearRing',\n",
       "   'coordinates': [[22.43873393311176, 51.44236535858937],\n",
       "    [22.43873241622091, 51.442354109887425],\n",
       "    [22.42344349295299, 50.948926432408385],\n",
       "    [22.408579151668764, 50.455453706697426],\n",
       "    [22.408635359231514, 50.455411532752535],\n",
       "    [22.408682781921236, 50.455365243887094],\n",
       "    [22.40870590823025, 50.45536213913504],\n",
       "    [23.95359407936189, 50.426390495085876],\n",
       "    [23.953661399906228, 50.42642537936403],\n",
       "    [23.95373497187969, 50.42645463659432],\n",
       "    [23.953740397476484, 50.42646933566859],\n",
       "    [23.984867577372363, 50.91943957688494],\n",
       "    [24.01688199518584, 51.412346366063346],\n",
       "    [24.016826140376924, 51.41238925264104],\n",
       "    [24.01677934809417, 51.41243620221081],\n",
       "    [24.01675591611628, 51.41243967826794],\n",
       "    [22.438879652337306, 51.442442291287115],\n",
       "    [22.438811992813246, 51.442406573373006],\n",
       "    [22.438737625928535, 51.442376337991405],\n",
       "    [22.43873393311176, 51.44236535858937]]},\n",
       "  'SOLAR_IRRADIANCE_B12': 85.25,\n",
       "  'SOLAR_IRRADIANCE_B10': 367.15,\n",
       "  'SENSOR_QUALITY': 'PASSED',\n",
       "  'SOLAR_IRRADIANCE_B11': 245.59,\n",
       "  'GENERATION_TIME': 1578391545000,\n",
       "  'SOLAR_IRRADIANCE_B8A': 955.32,\n",
       "  'FORMAT_CORRECTNESS': 'PASSED',\n",
       "  'CLOUD_COVERAGE_ASSESSMENT': 17.0202,\n",
       "  'system:time_end': 1578389778805,\n",
       "  'system:time_start': 1578389778805,\n",
       "  'DATASTRIP_ID': 'S2A_OPER_MSI_L1C_DS_MTI__20200107T100545_S20200107T093353_N02.08',\n",
       "  'PROCESSING_BASELINE': '02.08',\n",
       "  'SENSING_ORBIT_NUMBER': 136,\n",
       "  'SENSING_ORBIT_DIRECTION': 'DESCENDING',\n",
       "  'GENERAL_QUALITY': 'PASSED',\n",
       "  'GRANULE_ID': 'L1C_T34UFB_A023728_20200107T093353',\n",
       "  'REFLECTANCE_CONVERSION_CORRECTION': 1.03431859115,\n",
       "  'MEAN_INCIDENCE_AZIMUTH_ANGLE_B8': 104.376275967,\n",
       "  'DATATAKE_TYPE': 'INS-NOBS',\n",
       "  'MEAN_INCIDENCE_AZIMUTH_ANGLE_B9': 101.79878762,\n",
       "  'MEAN_INCIDENCE_AZIMUTH_ANGLE_B6': 102.469672751,\n",
       "  'MEAN_INCIDENCE_AZIMUTH_ANGLE_B7': 102.324553837,\n",
       "  'MEAN_INCIDENCE_AZIMUTH_ANGLE_B4': 103.06592023,\n",
       "  'MEAN_INCIDENCE_ZENITH_ANGLE_B1': 5.23916565474,\n",
       "  'MEAN_INCIDENCE_AZIMUTH_ANGLE_B5': 102.763394026,\n",
       "  'RADIOMETRIC_QUALITY': 'PASSED',\n",
       "  'MEAN_INCIDENCE_AZIMUTH_ANGLE_B2': 105.023849839,\n",
       "  'MEAN_INCIDENCE_AZIMUTH_ANGLE_B3': 103.841871355,\n",
       "  'MEAN_INCIDENCE_ZENITH_ANGLE_B5': 5.01923138578,\n",
       "  'MEAN_INCIDENCE_AZIMUTH_ANGLE_B1': 101.957355163,\n",
       "  'MEAN_INCIDENCE_ZENITH_ANGLE_B4': 4.97263421158,\n",
       "  'MEAN_INCIDENCE_ZENITH_ANGLE_B3': 4.90332111198,\n",
       "  'MEAN_INCIDENCE_ZENITH_ANGLE_B2': 4.84562607453,\n",
       "  'MEAN_INCIDENCE_ZENITH_ANGLE_B9': 5.30456902996,\n",
       "  'MEAN_INCIDENCE_ZENITH_ANGLE_B8': 4.86925676363,\n",
       "  'MEAN_INCIDENCE_ZENITH_ANGLE_B7': 5.12100775629,\n",
       "  'MEAN_INCIDENCE_ZENITH_ANGLE_B6': 5.07158120883,\n",
       "  'MEAN_SOLAR_ZENITH_ANGLE': 74.4151130754,\n",
       "  'MEAN_INCIDENCE_ZENITH_ANGLE_B8A': 5.17851325027,\n",
       "  'MGRS_TILE': '34UFB',\n",
       "  'CLOUDY_PIXEL_PERCENTAGE': 17.0202,\n",
       "  'PRODUCT_ID': 'S2A_MSIL1C_20200107T093351_N0208_R136_T34UFB_20200107T100545',\n",
       "  'MEAN_INCIDENCE_ZENITH_ANGLE_B10': 4.9763954273,\n",
       "  'SOLAR_IRRADIANCE_B9': 812.92,\n",
       "  'DEGRADED_MSI_DATA_PERCENTAGE': 0,\n",
       "  'MEAN_INCIDENCE_ZENITH_ANGLE_B11': 5.08488898637,\n",
       "  'MEAN_INCIDENCE_ZENITH_ANGLE_B12': 5.22205590251,\n",
       "  'SOLAR_IRRADIANCE_B6': 1287.61,\n",
       "  'MEAN_INCIDENCE_AZIMUTH_ANGLE_B10': 103.376836508,\n",
       "  'SOLAR_IRRADIANCE_B5': 1424.64,\n",
       "  'MEAN_INCIDENCE_AZIMUTH_ANGLE_B11': 102.618647457,\n",
       "  'SOLAR_IRRADIANCE_B8': 1041.63,\n",
       "  'MEAN_INCIDENCE_AZIMUTH_ANGLE_B12': 102.207176592,\n",
       "  'SOLAR_IRRADIANCE_B7': 1162.08,\n",
       "  'SOLAR_IRRADIANCE_B2': 1959.66,\n",
       "  'SOLAR_IRRADIANCE_B1': 1884.69,\n",
       "  'SOLAR_IRRADIANCE_B4': 1512.06,\n",
       "  'GEOMETRIC_QUALITY': 'PASSED',\n",
       "  'SOLAR_IRRADIANCE_B3': 1823.24,\n",
       "  'system:asset_size': 1378184039,\n",
       "  'system:index': '20200107T093351_20200107T093353_T34UFB'}}"
      ]
     },
     "execution_count": 45,
     "metadata": {},
     "output_type": "execute_result"
    }
   ],
   "source": [
    "# Retrieve Sentinel-2 Data\n",
    "# TODO: Adjust the date range and retrieve the least cloudy Sentinel-2 image\n",
    "sentinel2 = ee.ImageCollection('COPERNICUS/S2_HARMONIZED') \\\n",
    "    .filterDate('2020-01-01', '2020-02-01') \\\n",
    "    .filterBounds(aoi) \\\n",
    "    .sort('CLOUDY_PIXEL_PERCENTAGE')\n",
    "\n",
    "image = sentinel2.first()\n",
    "image.getInfo()"
   ]
  },
  {
   "cell_type": "markdown",
   "id": "8024b605",
   "metadata": {},
   "source": [
    "## Task 4: Extract Image Metadata\n",
    "Extract and print metadata from the selected image, such as ID, cloud cover percentage, mean solar azimuth and zenith angles, and processing level."
   ]
  },
  {
   "cell_type": "code",
   "execution_count": 55,
   "id": "14d34b82",
   "metadata": {},
   "outputs": [
    {
     "data": {
      "text/html": [
       "\n",
       "            <style>\n",
       "                .geemap-dark {\n",
       "                    --jp-widgets-color: white;\n",
       "                    --jp-widgets-label-color: white;\n",
       "                    --jp-ui-font-color1: white;\n",
       "                    --jp-layout-color2: #454545;\n",
       "                    background-color: #383838;\n",
       "                }\n",
       "\n",
       "                .geemap-dark .jupyter-button {\n",
       "                    --jp-layout-color3: #383838;\n",
       "                }\n",
       "\n",
       "                .geemap-colab {\n",
       "                    background-color: var(--colab-primary-surface-color, white);\n",
       "                }\n",
       "\n",
       "                .geemap-colab .jupyter-button {\n",
       "                    --jp-layout-color3: var(--colab-primary-surface-color, white);\n",
       "                }\n",
       "            </style>\n",
       "            "
      ],
      "text/plain": [
       "<IPython.core.display.HTML object>"
      ]
     },
     "metadata": {},
     "output_type": "display_data"
    },
    {
     "name": "stdout",
     "output_type": "stream",
     "text": [
      "{'Cloud coverage assessment': 17.0202, ' Mean solar zenith angle': 74.4151130754, 'Mean solar azimuth angle:': 166.36602622, 'Processing level:': '02.08'}\n"
     ]
    }
   ],
   "source": [
    "# Extract metadata\n",
    "# TODO: Retrieve and display image metadata\n",
    "metadata = {\n",
    "    \"Cloud coverage assessment\" : image.get('CLOUD_COVERAGE_ASSESSMENT').getInfo(),\n",
    "    \" Mean solar zenith angle\" : image.get('MEAN_SOLAR_ZENITH_ANGLE').getInfo(),\n",
    "    \"Mean solar azimuth angle:\" : image.get('MEAN_SOLAR_AZIMUTH_ANGLE').getInfo(),\n",
    "    \"Processing baseline:\" : image.get('PROCESSING_BASELINE').getInfo()\n",
    "}\n",
    "print(metadata)"
   ]
  },
  {
   "cell_type": "markdown",
   "id": "d5113faa",
   "metadata": {},
   "source": [
    "## Task 5: Visualize Image\n",
    "Create a map and visualize the Sentinel-2 image using different visualization parameters (e.g., true color, false color)."
   ]
  },
  {
   "cell_type": "code",
   "execution_count": 53,
   "id": "ffe9a4f2",
   "metadata": {},
   "outputs": [
    {
     "data": {
      "text/html": [
       "\n",
       "            <style>\n",
       "                .geemap-dark {\n",
       "                    --jp-widgets-color: white;\n",
       "                    --jp-widgets-label-color: white;\n",
       "                    --jp-ui-font-color1: white;\n",
       "                    --jp-layout-color2: #454545;\n",
       "                    background-color: #383838;\n",
       "                }\n",
       "\n",
       "                .geemap-dark .jupyter-button {\n",
       "                    --jp-layout-color3: #383838;\n",
       "                }\n",
       "\n",
       "                .geemap-colab {\n",
       "                    background-color: var(--colab-primary-surface-color, white);\n",
       "                }\n",
       "\n",
       "                .geemap-colab .jupyter-button {\n",
       "                    --jp-layout-color3: var(--colab-primary-surface-color, white);\n",
       "                }\n",
       "            </style>\n",
       "            "
      ],
      "text/plain": [
       "<IPython.core.display.HTML object>"
      ]
     },
     "metadata": {},
     "output_type": "display_data"
    },
    {
     "data": {
      "application/vnd.jupyter.widget-view+json": {
       "model_id": "a9bb233cb8044af484d7589ae9a4be68",
       "version_major": 2,
       "version_minor": 0
      },
      "text/plain": [
       "Map(bottom=175974.0, center=[50.936760390545494, 23.204388647297268], controls=(WidgetControl(options=['positi…"
      ]
     },
     "execution_count": 53,
     "metadata": {},
     "output_type": "execute_result"
    }
   ],
   "source": [
    "import geemap\n",
    "# Visualization\n",
    "# TODO: Create visualization layers using true color and false color compositions\n",
    "# Example parameters provided below:\n",
    "true_color_params = {'bands': ['B4', 'B3', 'B2'], 'min': 0, 'max': 3000}\n",
    "false_color_params = {'bands': ['B8', 'B4', 'B3'], 'min': 0, 'max': 5000}\n",
    "Map.addLayer(image, true_color_params, \"True color\")\n",
    "Map.addLayer(image, false_color_params, \"False color\")\n",
    "Map.centerObject(image, zoom=10)\n",
    "# TODO: Add these layers to an interactive map\n",
    "\n",
    "Map"
   ]
  },
  {
   "cell_type": "markdown",
   "id": "cfc58f9d",
   "metadata": {},
   "source": [
    "## Submission\n",
    "Save your completed notebook and submit it to your course repository."
   ]
  }
 ],
 "metadata": {
  "kernelspec": {
   "display_name": "eo_lab",
   "language": "python",
   "name": "python3"
  },
  "language_info": {
   "codemirror_mode": {
    "name": "ipython",
    "version": 3
   },
   "file_extension": ".py",
   "mimetype": "text/x-python",
   "name": "python",
   "nbconvert_exporter": "python",
   "pygments_lexer": "ipython3",
   "version": "3.9.21"
  }
 },
 "nbformat": 4,
 "nbformat_minor": 2
}
