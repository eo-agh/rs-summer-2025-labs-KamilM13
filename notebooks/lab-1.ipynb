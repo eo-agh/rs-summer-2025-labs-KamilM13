{
 "cells": [
  {
   "cell_type": "markdown",
   "id": "6a35dba3",
   "metadata": {},
   "source": [
    "# Laboratory Exercise 1: Introduction to Google Earth Engine (GEE)\n",
    "In this lab, you will learn how to initialize Google Earth Engine (GEE), select satellite images, visualize data, and analyze basic metadata."
   ]
  },
  {
   "cell_type": "markdown",
   "id": "1c5f6c68",
   "metadata": {},
   "source": [
    "## Task 1: Initialize Google Earth Engine\n",
    "Authenticate and initialize the Google Earth Engine (GEE) API."
   ]
  },
  {
   "cell_type": "code",
   "execution_count": 43,
   "id": "2dbfdbda",
   "metadata": {},
   "outputs": [
    {
     "data": {
      "text/html": [
       "\n",
       "            <style>\n",
       "                .geemap-dark {\n",
       "                    --jp-widgets-color: white;\n",
       "                    --jp-widgets-label-color: white;\n",
       "                    --jp-ui-font-color1: white;\n",
       "                    --jp-layout-color2: #454545;\n",
       "                    background-color: #383838;\n",
       "                }\n",
       "\n",
       "                .geemap-dark .jupyter-button {\n",
       "                    --jp-layout-color3: #383838;\n",
       "                }\n",
       "\n",
       "                .geemap-colab {\n",
       "                    background-color: var(--colab-primary-surface-color, white);\n",
       "                }\n",
       "\n",
       "                .geemap-colab .jupyter-button {\n",
       "                    --jp-layout-color3: var(--colab-primary-surface-color, white);\n",
       "                }\n",
       "            </style>\n",
       "            "
      ],
      "text/plain": [
       "<IPython.core.display.HTML object>"
      ]
     },
     "metadata": {},
     "output_type": "display_data"
    }
   ],
   "source": [
    "import ee\n",
    "# Authenticate and initialize GEE\n",
    "# TODO: Use the Earth Engine library to authenticate and initialize your session\n",
    "ee.Authenticate()\n",
    "ee.Initialize(project='ee-kamilmolo13')\n"
   ]
  },
  {
   "cell_type": "markdown",
   "id": "7b7d36d4",
   "metadata": {},
   "source": [
    "## Task 2: Define Area of Interest (AOI)\n",
    "Define your area of interest (AOI). You can use either a point or a bounding box.\n",
    "Example coordinates are provided below (Krakow, Poland). Adjust them for your location."
   ]
  },
  {
   "cell_type": "code",
   "execution_count": 72,
   "id": "75f06d59",
   "metadata": {},
   "outputs": [
    {
     "data": {
      "text/html": [
       "\n",
       "            <style>\n",
       "                .geemap-dark {\n",
       "                    --jp-widgets-color: white;\n",
       "                    --jp-widgets-label-color: white;\n",
       "                    --jp-ui-font-color1: white;\n",
       "                    --jp-layout-color2: #454545;\n",
       "                    background-color: #383838;\n",
       "                }\n",
       "\n",
       "                .geemap-dark .jupyter-button {\n",
       "                    --jp-layout-color3: #383838;\n",
       "                }\n",
       "\n",
       "                .geemap-colab {\n",
       "                    background-color: var(--colab-primary-surface-color, white);\n",
       "                }\n",
       "\n",
       "                .geemap-colab .jupyter-button {\n",
       "                    --jp-layout-color3: var(--colab-primary-surface-color, white);\n",
       "                }\n",
       "            </style>\n",
       "            "
      ],
      "text/plain": [
       "<IPython.core.display.HTML object>"
      ]
     },
     "metadata": {},
     "output_type": "display_data"
    }
   ],
   "source": [
    "# Define AOI\n",
    "# TODO: Replace with your coordinates\n",
    "aoi = ee.Geometry.Point([23.787745, 50.903603])\n",
    "# or\n",
    "# aoi = ee.Geometry.Rectangle([west, south, east, north])"
   ]
  },
  {
   "cell_type": "markdown",
   "id": "fc029d60",
   "metadata": {},
   "source": [
    "## Task 3: Retrieve Sentinel-2 Data\n",
    "Retrieve Sentinel-2 imagery for your defined AOI within a specific date range. Sort the images based on cloud cover percentage."
   ]
  },
  {
   "cell_type": "code",
   "execution_count": 73,
   "id": "5e08ded8",
   "metadata": {},
   "outputs": [
    {
     "data": {
      "text/html": [
       "\n",
       "            <style>\n",
       "                .geemap-dark {\n",
       "                    --jp-widgets-color: white;\n",
       "                    --jp-widgets-label-color: white;\n",
       "                    --jp-ui-font-color1: white;\n",
       "                    --jp-layout-color2: #454545;\n",
       "                    background-color: #383838;\n",
       "                }\n",
       "\n",
       "                .geemap-dark .jupyter-button {\n",
       "                    --jp-layout-color3: #383838;\n",
       "                }\n",
       "\n",
       "                .geemap-colab {\n",
       "                    background-color: var(--colab-primary-surface-color, white);\n",
       "                }\n",
       "\n",
       "                .geemap-colab .jupyter-button {\n",
       "                    --jp-layout-color3: var(--colab-primary-surface-color, white);\n",
       "                }\n",
       "            </style>\n",
       "            "
      ],
      "text/plain": [
       "<IPython.core.display.HTML object>"
      ]
     },
     "metadata": {},
     "output_type": "display_data"
    },
    {
     "data": {
      "text/plain": [
       "{'type': 'Image',\n",
       " 'bands': [{'id': 'B1',\n",
       "   'data_type': {'type': 'PixelType',\n",
       "    'precision': 'int',\n",
       "    'min': 0,\n",
       "    'max': 65535},\n",
       "   'dimensions': [1830, 1830],\n",
       "   'crs': 'EPSG:32634',\n",
       "   'crs_transform': [60, 0, 699960, 0, -60, 5700000]},\n",
       "  {'id': 'B2',\n",
       "   'data_type': {'type': 'PixelType',\n",
       "    'precision': 'int',\n",
       "    'min': 0,\n",
       "    'max': 65535},\n",
       "   'dimensions': [10980, 10980],\n",
       "   'crs': 'EPSG:32634',\n",
       "   'crs_transform': [10, 0, 699960, 0, -10, 5700000]},\n",
       "  {'id': 'B3',\n",
       "   'data_type': {'type': 'PixelType',\n",
       "    'precision': 'int',\n",
       "    'min': 0,\n",
       "    'max': 65535},\n",
       "   'dimensions': [10980, 10980],\n",
       "   'crs': 'EPSG:32634',\n",
       "   'crs_transform': [10, 0, 699960, 0, -10, 5700000]},\n",
       "  {'id': 'B4',\n",
       "   'data_type': {'type': 'PixelType',\n",
       "    'precision': 'int',\n",
       "    'min': 0,\n",
       "    'max': 65535},\n",
       "   'dimensions': [10980, 10980],\n",
       "   'crs': 'EPSG:32634',\n",
       "   'crs_transform': [10, 0, 699960, 0, -10, 5700000]},\n",
       "  {'id': 'B5',\n",
       "   'data_type': {'type': 'PixelType',\n",
       "    'precision': 'int',\n",
       "    'min': 0,\n",
       "    'max': 65535},\n",
       "   'dimensions': [5490, 5490],\n",
       "   'crs': 'EPSG:32634',\n",
       "   'crs_transform': [20, 0, 699960, 0, -20, 5700000]},\n",
       "  {'id': 'B6',\n",
       "   'data_type': {'type': 'PixelType',\n",
       "    'precision': 'int',\n",
       "    'min': 0,\n",
       "    'max': 65535},\n",
       "   'dimensions': [5490, 5490],\n",
       "   'crs': 'EPSG:32634',\n",
       "   'crs_transform': [20, 0, 699960, 0, -20, 5700000]},\n",
       "  {'id': 'B7',\n",
       "   'data_type': {'type': 'PixelType',\n",
       "    'precision': 'int',\n",
       "    'min': 0,\n",
       "    'max': 65535},\n",
       "   'dimensions': [5490, 5490],\n",
       "   'crs': 'EPSG:32634',\n",
       "   'crs_transform': [20, 0, 699960, 0, -20, 5700000]},\n",
       "  {'id': 'B8',\n",
       "   'data_type': {'type': 'PixelType',\n",
       "    'precision': 'int',\n",
       "    'min': 0,\n",
       "    'max': 65535},\n",
       "   'dimensions': [10980, 10980],\n",
       "   'crs': 'EPSG:32634',\n",
       "   'crs_transform': [10, 0, 699960, 0, -10, 5700000]},\n",
       "  {'id': 'B8A',\n",
       "   'data_type': {'type': 'PixelType',\n",
       "    'precision': 'int',\n",
       "    'min': 0,\n",
       "    'max': 65535},\n",
       "   'dimensions': [5490, 5490],\n",
       "   'crs': 'EPSG:32634',\n",
       "   'crs_transform': [20, 0, 699960, 0, -20, 5700000]},\n",
       "  {'id': 'B9',\n",
       "   'data_type': {'type': 'PixelType',\n",
       "    'precision': 'int',\n",
       "    'min': 0,\n",
       "    'max': 65535},\n",
       "   'dimensions': [1830, 1830],\n",
       "   'crs': 'EPSG:32634',\n",
       "   'crs_transform': [60, 0, 699960, 0, -60, 5700000]},\n",
       "  {'id': 'B10',\n",
       "   'data_type': {'type': 'PixelType',\n",
       "    'precision': 'int',\n",
       "    'min': 0,\n",
       "    'max': 65535},\n",
       "   'dimensions': [1830, 1830],\n",
       "   'crs': 'EPSG:32634',\n",
       "   'crs_transform': [60, 0, 699960, 0, -60, 5700000]},\n",
       "  {'id': 'B11',\n",
       "   'data_type': {'type': 'PixelType',\n",
       "    'precision': 'int',\n",
       "    'min': 0,\n",
       "    'max': 65535},\n",
       "   'dimensions': [5490, 5490],\n",
       "   'crs': 'EPSG:32634',\n",
       "   'crs_transform': [20, 0, 699960, 0, -20, 5700000]},\n",
       "  {'id': 'B12',\n",
       "   'data_type': {'type': 'PixelType',\n",
       "    'precision': 'int',\n",
       "    'min': 0,\n",
       "    'max': 65535},\n",
       "   'dimensions': [5490, 5490],\n",
       "   'crs': 'EPSG:32634',\n",
       "   'crs_transform': [20, 0, 699960, 0, -20, 5700000]},\n",
       "  {'id': 'QA10',\n",
       "   'data_type': {'type': 'PixelType',\n",
       "    'precision': 'int',\n",
       "    'min': 0,\n",
       "    'max': 65535},\n",
       "   'crs': 'EPSG:4326',\n",
       "   'crs_transform': [1, 0, 0, 0, 1, 0]},\n",
       "  {'id': 'QA20',\n",
       "   'data_type': {'type': 'PixelType',\n",
       "    'precision': 'int',\n",
       "    'min': 0,\n",
       "    'max': 4294967295},\n",
       "   'crs': 'EPSG:4326',\n",
       "   'crs_transform': [1, 0, 0, 0, 1, 0]},\n",
       "  {'id': 'QA60',\n",
       "   'data_type': {'type': 'PixelType',\n",
       "    'precision': 'int',\n",
       "    'min': 0,\n",
       "    'max': 65535},\n",
       "   'dimensions': [1830, 1830],\n",
       "   'crs': 'EPSG:32634',\n",
       "   'crs_transform': [60, 0, 699960, 0, -60, 5700000]},\n",
       "  {'id': 'MSK_CLASSI_OPAQUE',\n",
       "   'data_type': {'type': 'PixelType',\n",
       "    'precision': 'int',\n",
       "    'min': 0,\n",
       "    'max': 255},\n",
       "   'dimensions': [1830, 1830],\n",
       "   'crs': 'EPSG:32634',\n",
       "   'crs_transform': [60, 0, 699960, 0, -60, 5700000]},\n",
       "  {'id': 'MSK_CLASSI_CIRRUS',\n",
       "   'data_type': {'type': 'PixelType',\n",
       "    'precision': 'int',\n",
       "    'min': 0,\n",
       "    'max': 255},\n",
       "   'dimensions': [1830, 1830],\n",
       "   'crs': 'EPSG:32634',\n",
       "   'crs_transform': [60, 0, 699960, 0, -60, 5700000]},\n",
       "  {'id': 'MSK_CLASSI_SNOW_ICE',\n",
       "   'data_type': {'type': 'PixelType',\n",
       "    'precision': 'int',\n",
       "    'min': 0,\n",
       "    'max': 255},\n",
       "   'dimensions': [1830, 1830],\n",
       "   'crs': 'EPSG:32634',\n",
       "   'crs_transform': [60, 0, 699960, 0, -60, 5700000]}],\n",
       " 'version': 1742392503687239,\n",
       " 'id': 'COPERNICUS/S2_HARMONIZED/20240709T092549_20240709T092859_T34UGB',\n",
       " 'properties': {'DATATAKE_IDENTIFIER': 'GS2B_20240709T092549_038343_N05.10',\n",
       "  'SPACECRAFT_NAME': 'Sentinel-2B',\n",
       "  'RADIO_ADD_OFFSET_B8A': -1000,\n",
       "  'MEAN_INCIDENCE_AZIMUTH_ANGLE_B8A': 240.300968132485,\n",
       "  'RADIO_ADD_OFFSET_B10': -1000,\n",
       "  'MEAN_SOLAR_AZIMUTH_ANGLE': 156.382642799783,\n",
       "  'system:footprint': {'type': 'LinearRing',\n",
       "   'coordinates': [[23.875579015692693, 51.41592343285918],\n",
       "    [23.87557359924369, 51.415908725946245],\n",
       "    [23.8450531145327, 50.92293278693762],\n",
       "    [23.81537963348289, 50.429909646888504],\n",
       "    [23.815434484629673, 50.42986684909312],\n",
       "    [23.815480528293605, 50.42982002886448],\n",
       "    [23.815503560307572, 50.429816624257334],\n",
       "    [25.357349533489064, 50.38222226821109],\n",
       "    [25.357417810957447, 50.382256357813375],\n",
       "    [25.35749230242422, 50.38228470927449],\n",
       "    [25.357498093254122, 50.38229934939899],\n",
       "    [25.380250010428146, 50.62840910601702],\n",
       "    [25.403321142558966, 50.87449342261843],\n",
       "    [25.42671819999155, 51.12055956264071],\n",
       "    [25.45044715290926, 51.366607506032906],\n",
       "    [25.450392692120563, 51.366651025996944],\n",
       "    [25.45034748360542, 51.36669855721688],\n",
       "    [25.450324017199968, 51.366702293088686],\n",
       "    [23.87572295814935, 51.4159876261636],\n",
       "    [23.875654181084332, 51.415952717828624],\n",
       "    [23.875579015692693, 51.41592343285918]]},\n",
       "  'SOLAR_IRRADIANCE_B12': 87.75,\n",
       "  'SOLAR_IRRADIANCE_B10': 365.41,\n",
       "  'SENSOR_QUALITY': 'PASSED',\n",
       "  'SOLAR_IRRADIANCE_B11': 247.08,\n",
       "  'GENERATION_TIME': 1720520804000,\n",
       "  'RADIO_ADD_OFFSET_B12': -1000,\n",
       "  'RADIO_ADD_OFFSET_B11': -1000,\n",
       "  'SOLAR_IRRADIANCE_B8A': 953.93,\n",
       "  'FORMAT_CORRECTNESS': 'PASSED',\n",
       "  'CLOUD_COVERAGE_ASSESSMENT': 0.486398518917,\n",
       "  'system:time_end': 1720517783407,\n",
       "  'SNOW_PIXEL_PERCENTAGE': 0,\n",
       "  'system:time_start': 1720517783407,\n",
       "  'RADIO_ADD_OFFSET_B1': -1000,\n",
       "  'RADIO_ADD_OFFSET_B2': -1000,\n",
       "  'DATASTRIP_ID': 'S2B_OPER_MSI_L1C_DS_2BPS_20240709T102644_S20240709T092859_N05.10',\n",
       "  'RADIO_ADD_OFFSET_B3': -1000,\n",
       "  'RADIO_ADD_OFFSET_B4': -1000,\n",
       "  'RADIO_ADD_OFFSET_B5': -1000,\n",
       "  'PROCESSING_BASELINE': '05.10',\n",
       "  'SENSING_ORBIT_NUMBER': 136,\n",
       "  'RADIO_ADD_OFFSET_B6': -1000,\n",
       "  'RADIO_ADD_OFFSET_B7': -1000,\n",
       "  'SENSING_ORBIT_DIRECTION': 'DESCENDING',\n",
       "  'GENERAL_QUALITY': 'PASSED',\n",
       "  'GRANULE_ID': 'L1C_T34UGB_A038343_20240709T092859',\n",
       "  'REFLECTANCE_CONVERSION_CORRECTION': 0.967365434131918,\n",
       "  'MEAN_INCIDENCE_AZIMUTH_ANGLE_B8': 244.088829236966,\n",
       "  'DATATAKE_TYPE': 'INS-NOBS',\n",
       "  'MEAN_INCIDENCE_AZIMUTH_ANGLE_B9': 239.772788540801,\n",
       "  'MEAN_INCIDENCE_AZIMUTH_ANGLE_B6': 240.928928569938,\n",
       "  'MEAN_INCIDENCE_AZIMUTH_ANGLE_B7': 240.582075112895,\n",
       "  'MEAN_INCIDENCE_AZIMUTH_ANGLE_B4': 241.799104636261,\n",
       "  'MEAN_INCIDENCE_ZENITH_ANGLE_B1': 4.0463316956287,\n",
       "  'RADIO_ADD_OFFSET_B8': -1000,\n",
       "  'MEAN_INCIDENCE_AZIMUTH_ANGLE_B5': 241.301922279484,\n",
       "  'RADIOMETRIC_QUALITY': 'PASSED',\n",
       "  'RADIO_ADD_OFFSET_B9': -1000,\n",
       "  'MEAN_INCIDENCE_AZIMUTH_ANGLE_B2': 245.41200933605,\n",
       "  'MEAN_INCIDENCE_AZIMUTH_ANGLE_B3': 243.083641734549,\n",
       "  'MEAN_INCIDENCE_ZENITH_ANGLE_B5': 3.75236480131239,\n",
       "  'MEAN_INCIDENCE_AZIMUTH_ANGLE_B1': 239.914643141335,\n",
       "  'MEAN_INCIDENCE_ZENITH_ANGLE_B4': 3.68909780358904,\n",
       "  'MEAN_INCIDENCE_ZENITH_ANGLE_B3': 3.58460012884287,\n",
       "  'MEAN_INCIDENCE_ZENITH_ANGLE_B2': 3.49165248324203,\n",
       "  'MEAN_INCIDENCE_ZENITH_ANGLE_B9': 4.12913587768535,\n",
       "  'MEAN_INCIDENCE_ZENITH_ANGLE_B8': 3.53509431677939,\n",
       "  'MEAN_INCIDENCE_ZENITH_ANGLE_B7': 3.89418997185375,\n",
       "  'MEAN_INCIDENCE_ZENITH_ANGLE_B6': 3.81965247056295,\n",
       "  'MEAN_SOLAR_ZENITH_ANGLE': 30.2713775819544,\n",
       "  'MEAN_INCIDENCE_ZENITH_ANGLE_B8A': 3.96472182249643,\n",
       "  'MGRS_TILE': '34UGB',\n",
       "  'CLOUDY_PIXEL_PERCENTAGE': 0.486398518916659,\n",
       "  'PRODUCT_ID': 'S2B_MSIL1C_20240709T092549_N0510_R136_T34UGB_20240709T102644',\n",
       "  'MEAN_INCIDENCE_ZENITH_ANGLE_B10': 3.65659771528097,\n",
       "  'SOLAR_IRRADIANCE_B9': 817.58,\n",
       "  'DEGRADED_MSI_DATA_PERCENTAGE': 0.0037,\n",
       "  'MEAN_INCIDENCE_ZENITH_ANGLE_B11': 3.81258573119498,\n",
       "  'MEAN_INCIDENCE_ZENITH_ANGLE_B12': 3.98924616824984,\n",
       "  'SOLAR_IRRADIANCE_B6': 1291.13,\n",
       "  'MEAN_INCIDENCE_AZIMUTH_ANGLE_B10': 241.830290935421,\n",
       "  'SOLAR_IRRADIANCE_B5': 1425.78,\n",
       "  'MEAN_INCIDENCE_AZIMUTH_ANGLE_B11': 240.759907473741,\n",
       "  'SOLAR_IRRADIANCE_B8': 1041.28,\n",
       "  'MEAN_INCIDENCE_AZIMUTH_ANGLE_B12': 240.074455927979,\n",
       "  'SOLAR_IRRADIANCE_B7': 1175.57,\n",
       "  'SOLAR_IRRADIANCE_B2': 1959.75,\n",
       "  'SOLAR_IRRADIANCE_B1': 1874.3,\n",
       "  'SOLAR_IRRADIANCE_B4': 1512.79,\n",
       "  'GEOMETRIC_QUALITY': 'PASSED',\n",
       "  'SOLAR_IRRADIANCE_B3': 1824.93,\n",
       "  'system:asset_size': 1281111875,\n",
       "  'system:index': '20240709T092549_20240709T092859_T34UGB'}}"
      ]
     },
     "execution_count": 73,
     "metadata": {},
     "output_type": "execute_result"
    }
   ],
   "source": [
    "# Retrieve Sentinel-2 Data\n",
    "# TODO: Adjust the date range and retrieve the least cloudy Sentinel-2 image\n",
    "sentinel2 = ee.ImageCollection('COPERNICUS/S2_HARMONIZED') \\\n",
    "    .filterDate('2024-07-01', '2024-08-01') \\\n",
    "    .filterBounds(aoi) \\\n",
    "    .sort('CLOUDY_PIXEL_PERCENTAGE')\n",
    "\n",
    "image = sentinel2.first()\n",
    "image.getInfo()"
   ]
  },
  {
   "cell_type": "markdown",
   "id": "8024b605",
   "metadata": {},
   "source": [
    "## Task 4: Extract Image Metadata\n",
    "Extract and print metadata from the selected image, such as ID, cloud cover percentage, mean solar azimuth and zenith angles, and processing level."
   ]
  },
  {
   "cell_type": "code",
   "execution_count": 74,
   "id": "14d34b82",
   "metadata": {},
   "outputs": [
    {
     "data": {
      "text/html": [
       "\n",
       "            <style>\n",
       "                .geemap-dark {\n",
       "                    --jp-widgets-color: white;\n",
       "                    --jp-widgets-label-color: white;\n",
       "                    --jp-ui-font-color1: white;\n",
       "                    --jp-layout-color2: #454545;\n",
       "                    background-color: #383838;\n",
       "                }\n",
       "\n",
       "                .geemap-dark .jupyter-button {\n",
       "                    --jp-layout-color3: #383838;\n",
       "                }\n",
       "\n",
       "                .geemap-colab {\n",
       "                    background-color: var(--colab-primary-surface-color, white);\n",
       "                }\n",
       "\n",
       "                .geemap-colab .jupyter-button {\n",
       "                    --jp-layout-color3: var(--colab-primary-surface-color, white);\n",
       "                }\n",
       "            </style>\n",
       "            "
      ],
      "text/plain": [
       "<IPython.core.display.HTML object>"
      ]
     },
     "metadata": {},
     "output_type": "display_data"
    },
    {
     "name": "stdout",
     "output_type": "stream",
     "text": [
      "{'Cloud coverage assessment': 0.486398518917, ' Mean solar zenith angle': 30.2713775819544, 'Mean solar azimuth angle:': 156.382642799783, 'Processing baseline:': '05.10'}\n"
     ]
    }
   ],
   "source": [
    "# Extract metadata\n",
    "# TODO: Retrieve and display image metadata\n",
    "metadata = {\n",
    "    \"Cloud coverage assessment\" : image.get('CLOUD_COVERAGE_ASSESSMENT').getInfo(),\n",
    "    \" Mean solar zenith angle\" : image.get('MEAN_SOLAR_ZENITH_ANGLE').getInfo(),\n",
    "    \"Mean solar azimuth angle:\" : image.get('MEAN_SOLAR_AZIMUTH_ANGLE').getInfo(),\n",
    "    \"Processing baseline:\" : image.get('PROCESSING_BASELINE').getInfo()\n",
    "}\n",
    "print(metadata)"
   ]
  },
  {
   "cell_type": "markdown",
   "id": "d5113faa",
   "metadata": {},
   "source": [
    "## Task 5: Visualize Image\n",
    "Create a map and visualize the Sentinel-2 image using different visualization parameters (e.g., true color, false color)."
   ]
  },
  {
   "cell_type": "code",
   "execution_count": 75,
   "id": "ffe9a4f2",
   "metadata": {},
   "outputs": [
    {
     "data": {
      "text/html": [
       "\n",
       "            <style>\n",
       "                .geemap-dark {\n",
       "                    --jp-widgets-color: white;\n",
       "                    --jp-widgets-label-color: white;\n",
       "                    --jp-ui-font-color1: white;\n",
       "                    --jp-layout-color2: #454545;\n",
       "                    background-color: #383838;\n",
       "                }\n",
       "\n",
       "                .geemap-dark .jupyter-button {\n",
       "                    --jp-layout-color3: #383838;\n",
       "                }\n",
       "\n",
       "                .geemap-colab {\n",
       "                    background-color: var(--colab-primary-surface-color, white);\n",
       "                }\n",
       "\n",
       "                .geemap-colab .jupyter-button {\n",
       "                    --jp-layout-color3: var(--colab-primary-surface-color, white);\n",
       "                }\n",
       "            </style>\n",
       "            "
      ],
      "text/plain": [
       "<IPython.core.display.HTML object>"
      ]
     },
     "metadata": {},
     "output_type": "display_data"
    },
    {
     "data": {
      "application/vnd.jupyter.widget-view+json": {
       "model_id": "c795fa3e76f14b9a90c20244eb46c11f",
       "version_major": 2,
       "version_minor": 0
      },
      "text/plain": [
       "Map(center=[50.90128142817252, 24.624558582017656], controls=(WidgetControl(options=['position', 'transparent_…"
      ]
     },
     "execution_count": 75,
     "metadata": {},
     "output_type": "execute_result"
    }
   ],
   "source": [
    "import geemap\n",
    "# Visualization\n",
    "# TODO: Create visualization layers using true color and false color compositions\n",
    "# Example parameters provided below:\n",
    "Map = geemap.Map()\n",
    "true_color_params = {'bands': ['B4', 'B3', 'B2'], 'min': 0, 'max': 3000}\n",
    "false_color_params = {'bands': ['B8', 'B4', 'B3'], 'min': 0, 'max': 5000}\n",
    "Map.addLayer(image, true_color_params, \"True color\")\n",
    "Map.addLayer(image, false_color_params, \"False color\")\n",
    "Map.centerObject(image, zoom=10)\n",
    "# TODO: Add these layers to an interactive map\n",
    "\n",
    "Map"
   ]
  },
  {
   "cell_type": "markdown",
   "id": "cfc58f9d",
   "metadata": {},
   "source": [
    "## Submission\n",
    "Save your completed notebook and submit it to your course repository."
   ]
  }
 ],
 "metadata": {
  "kernelspec": {
   "display_name": "eo_lab",
   "language": "python",
   "name": "python3"
  },
  "language_info": {
   "codemirror_mode": {
    "name": "ipython",
    "version": 3
   },
   "file_extension": ".py",
   "mimetype": "text/x-python",
   "name": "python",
   "nbconvert_exporter": "python",
   "pygments_lexer": "ipython3",
   "version": "3.9.21"
  }
 },
 "nbformat": 4,
 "nbformat_minor": 2
}
