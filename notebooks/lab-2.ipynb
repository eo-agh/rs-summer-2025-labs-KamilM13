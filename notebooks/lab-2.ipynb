{
 "cells": [
  {
   "cell_type": "markdown",
   "id": "c115edb2",
   "metadata": {},
   "source": [
    "# Exercise 2: Vegetation Index Analysis\n",
    "In this exercise, you will analyze vegetation changes within one growing season in a selected agricultural region (Kujawy, Poland)."
   ]
  },
  {
   "cell_type": "markdown",
   "id": "1761c7f1",
   "metadata": {},
   "source": [
    "## Task 1: Define AOI\n",
    "Create an Area of Interest (AOI) using the coordinates provided below."
   ]
  },
  {
   "cell_type": "code",
   "execution_count": 41,
   "id": "9f4c98f3",
   "metadata": {},
   "outputs": [
    {
     "data": {
      "text/html": [
       "\n",
       "            <style>\n",
       "                .geemap-dark {\n",
       "                    --jp-widgets-color: white;\n",
       "                    --jp-widgets-label-color: white;\n",
       "                    --jp-ui-font-color1: white;\n",
       "                    --jp-layout-color2: #454545;\n",
       "                    background-color: #383838;\n",
       "                }\n",
       "\n",
       "                .geemap-dark .jupyter-button {\n",
       "                    --jp-layout-color3: #383838;\n",
       "                }\n",
       "\n",
       "                .geemap-colab {\n",
       "                    background-color: var(--colab-primary-surface-color, white);\n",
       "                }\n",
       "\n",
       "                .geemap-colab .jupyter-button {\n",
       "                    --jp-layout-color3: var(--colab-primary-surface-color, white);\n",
       "                }\n",
       "            </style>\n",
       "            "
      ],
      "text/plain": [
       "<IPython.core.display.HTML object>"
      ]
     },
     "metadata": {},
     "output_type": "display_data"
    }
   ],
   "source": [
    "# TODO: Define AOI\n",
    "import ee\n",
    "ee.Authenticate()\n",
    "ee.Initialize(project='ee-kamilmolo13')\n",
    "\n",
    "aoi = ee.Geometry.Point([23.787745, 50.903603])"
   ]
  },
  {
   "cell_type": "markdown",
   "id": "44ec57e7",
   "metadata": {},
   "source": [
    "## Task 2: Retrieve Sentinel-2 Imagery\n",
    "Retrieve two Sentinel-2 satellite images from the following dates: 2023-04-01 and 2023-07-01."
   ]
  },
  {
   "cell_type": "code",
   "execution_count": 42,
   "id": "cd32529c",
   "metadata": {},
   "outputs": [
    {
     "data": {
      "text/html": [
       "\n",
       "            <style>\n",
       "                .geemap-dark {\n",
       "                    --jp-widgets-color: white;\n",
       "                    --jp-widgets-label-color: white;\n",
       "                    --jp-ui-font-color1: white;\n",
       "                    --jp-layout-color2: #454545;\n",
       "                    background-color: #383838;\n",
       "                }\n",
       "\n",
       "                .geemap-dark .jupyter-button {\n",
       "                    --jp-layout-color3: #383838;\n",
       "                }\n",
       "\n",
       "                .geemap-colab {\n",
       "                    background-color: var(--colab-primary-surface-color, white);\n",
       "                }\n",
       "\n",
       "                .geemap-colab .jupyter-button {\n",
       "                    --jp-layout-color3: var(--colab-primary-surface-color, white);\n",
       "                }\n",
       "            </style>\n",
       "            "
      ],
      "text/plain": [
       "<IPython.core.display.HTML object>"
      ]
     },
     "metadata": {},
     "output_type": "display_data"
    }
   ],
   "source": [
    "# TODO: Retrieve Sentinel-2 images for the selected dates.\n",
    "image_april = ee.ImageCollection('COPERNICUS/S2_HARMONIZED') \\\n",
    "    .filterDate('2023-04-01', '2023-05-01') \\\n",
    "    .filterBounds(aoi) \\\n",
    "    .sort('CLOUDY_PIXEL_PERCENTAGE') \\\n",
    "    .first()\n",
    "image_july = ee.ImageCollection('COPERNICUS/S2_HARMONIZED') \\\n",
    "    .filterDate('2023-07-01', '2023-08-01') \\\n",
    "    .filterBounds(aoi) \\\n",
    "    .sort('CLOUDY_PIXEL_PERCENTAGE') \\\n",
    "    .first()"
   ]
  },
  {
   "cell_type": "markdown",
   "id": "e0d5a72c",
   "metadata": {},
   "source": [
    "## Task 3: Calculate NDVI\n",
    "Calculate the Normalized Difference Vegetation Index (NDVI) for both images."
   ]
  },
  {
   "cell_type": "code",
   "execution_count": 54,
   "id": "5454dd10",
   "metadata": {},
   "outputs": [
    {
     "data": {
      "text/html": [
       "\n",
       "            <style>\n",
       "                .geemap-dark {\n",
       "                    --jp-widgets-color: white;\n",
       "                    --jp-widgets-label-color: white;\n",
       "                    --jp-ui-font-color1: white;\n",
       "                    --jp-layout-color2: #454545;\n",
       "                    background-color: #383838;\n",
       "                }\n",
       "\n",
       "                .geemap-dark .jupyter-button {\n",
       "                    --jp-layout-color3: #383838;\n",
       "                }\n",
       "\n",
       "                .geemap-colab {\n",
       "                    background-color: var(--colab-primary-surface-color, white);\n",
       "                }\n",
       "\n",
       "                .geemap-colab .jupyter-button {\n",
       "                    --jp-layout-color3: var(--colab-primary-surface-color, white);\n",
       "                }\n",
       "            </style>\n",
       "            "
      ],
      "text/plain": [
       "<IPython.core.display.HTML object>"
      ]
     },
     "metadata": {},
     "output_type": "display_data"
    }
   ],
   "source": [
    "# TODO: Calculate NDVI for both images (Choose the appropriate S-2 bands).\n",
    "nir_april = image_april.select('B8')\n",
    "red_april = image_april.select('B4')\n",
    "ndvi_april = nir_april.subtract(red_april).divide(nir_april.add(red_april)).rename('NDVI_april')\n",
    "\n",
    "nir_july = image_july.select('B8')\n",
    "red_july = image_july.select('B4')\n",
    "ndvi_july = nir_july.subtract(red_july).divide(nir_july.add(red_july)).rename('NDVI_july')"
   ]
  },
  {
   "cell_type": "markdown",
   "id": "92023a75",
   "metadata": {},
   "source": [
    "## Task 4: Compare NDVI\n",
    "Display both NDVI indices on the map and calculate and visualize their difference."
   ]
  },
  {
   "cell_type": "code",
   "execution_count": 63,
   "id": "bc2f4d29",
   "metadata": {},
   "outputs": [
    {
     "data": {
      "text/html": [
       "\n",
       "            <style>\n",
       "                .geemap-dark {\n",
       "                    --jp-widgets-color: white;\n",
       "                    --jp-widgets-label-color: white;\n",
       "                    --jp-ui-font-color1: white;\n",
       "                    --jp-layout-color2: #454545;\n",
       "                    background-color: #383838;\n",
       "                }\n",
       "\n",
       "                .geemap-dark .jupyter-button {\n",
       "                    --jp-layout-color3: #383838;\n",
       "                }\n",
       "\n",
       "                .geemap-colab {\n",
       "                    background-color: var(--colab-primary-surface-color, white);\n",
       "                }\n",
       "\n",
       "                .geemap-colab .jupyter-button {\n",
       "                    --jp-layout-color3: var(--colab-primary-surface-color, white);\n",
       "                }\n",
       "            </style>\n",
       "            "
      ],
      "text/plain": [
       "<IPython.core.display.HTML object>"
      ]
     },
     "metadata": {},
     "output_type": "display_data"
    },
    {
     "data": {
      "application/vnd.jupyter.widget-view+json": {
       "model_id": "38a75c3914254dcc862497a0c65707fd",
       "version_major": 2,
       "version_minor": 0
      },
      "text/plain": [
       "Map(center=[50.902066999999995, 23.887941000000005], controls=(WidgetControl(options=['position', 'transparent…"
      ]
     },
     "execution_count": 63,
     "metadata": {},
     "output_type": "execute_result"
    }
   ],
   "source": [
    "# TODO: Compare NDVI, visualize the differences, and analyze vegetation changes.\n",
    "import geemap\n",
    "ndvi_difference = ndvi_july.subtract(ndvi_april).rename('NDVI_diff')\n",
    "Map_comp = geemap.Map()\n",
    "viz_params = {'bands': ['NDVI_diff'], 'min': -0.5, 'max': 0.5}\n",
    "Map_comp.addLayer(ndvi_difference, {\n",
    "    'min': -0.5, 'max': 0.5,\n",
    "    'palette': ['red', 'blue', 'green']\n",
    "}, \"NDVI_diff\")\n",
    "centerpoint = ee.Geometry.Point([23.887941, 50.902067])\n",
    "Map_comp.centerObject(centerpoint, zoom=14)\n",
    "\n",
    "Map_comp\n"
   ]
  },
  {
   "cell_type": "markdown",
   "id": "22cab30e",
   "metadata": {},
   "source": [
    "## Task 5: Interpret the Results\n",
    "Briefly describe the meaning of the observed NDVI changes within the analyzed period."
   ]
  },
  {
   "cell_type": "code",
   "execution_count": null,
   "id": "c5d0d661",
   "metadata": {},
   "outputs": [],
   "source": [
    "# TODO: Provide your interpretation here in a Markdown cell."
   ]
  },
  {
   "cell_type": "markdown",
   "id": "b9119c23",
   "metadata": {},
   "source": [
    "By subtracting the ndvi of April from the ndvi of July and applying a 3 color scale I obtained a map layer showcasing the change.\n",
    "Green color indicates increase in vegetation, red a decrease, and blue indicates little to no change."
   ]
  },
  {
   "cell_type": "markdown",
   "id": "c968b686",
   "metadata": {},
   "source": [
    "## Task 6: False Color Composite for Vegetation Condition Assessment\n",
    "Add false-color composites (NIR, RED, GREEN) for both dates to the map for visual assessment of vegetation condition."
   ]
  },
  {
   "cell_type": "code",
   "execution_count": 51,
   "id": "f6c53f4d",
   "metadata": {},
   "outputs": [
    {
     "data": {
      "text/html": [
       "\n",
       "            <style>\n",
       "                .geemap-dark {\n",
       "                    --jp-widgets-color: white;\n",
       "                    --jp-widgets-label-color: white;\n",
       "                    --jp-ui-font-color1: white;\n",
       "                    --jp-layout-color2: #454545;\n",
       "                    background-color: #383838;\n",
       "                }\n",
       "\n",
       "                .geemap-dark .jupyter-button {\n",
       "                    --jp-layout-color3: #383838;\n",
       "                }\n",
       "\n",
       "                .geemap-colab {\n",
       "                    background-color: var(--colab-primary-surface-color, white);\n",
       "                }\n",
       "\n",
       "                .geemap-colab .jupyter-button {\n",
       "                    --jp-layout-color3: var(--colab-primary-surface-color, white);\n",
       "                }\n",
       "            </style>\n",
       "            "
      ],
      "text/plain": [
       "<IPython.core.display.HTML object>"
      ]
     },
     "metadata": {},
     "output_type": "display_data"
    },
    {
     "data": {
      "application/vnd.jupyter.widget-view+json": {
       "model_id": "7b76634778ae4e8cb561659b86a30c4d",
       "version_major": 2,
       "version_minor": 0
      },
      "text/plain": [
       "Map(center=[50.902066999999995, 23.887941000000005], controls=(WidgetControl(options=['position', 'transparent…"
      ]
     },
     "execution_count": 51,
     "metadata": {},
     "output_type": "execute_result"
    }
   ],
   "source": [
    "# TODO: Create a false-color composite (NIR, RED, GREEN) and add it to the map\n",
    "vegetation_viz = {'bands': ['B8', 'B4', 'B3'], 'min': 0, 'max': 4000}\n",
    "# Add Sentinel-2 images for both dates to the map using this composite.\n",
    "Map = geemap.Map()\n",
    "Map.addLayer(image_april, vegetation_viz, \"April\")\n",
    "Map.addLayer(image_july, vegetation_viz, \"July\")\n",
    "centerpoint = ee.Geometry.Point([23.887941, 50.902067])\n",
    "Map.centerObject(centerpoint, zoom=14)\n",
    "\n",
    "Map"
   ]
  }
 ],
 "metadata": {
  "kernelspec": {
   "display_name": "eo_lab",
   "language": "python",
   "name": "python3"
  },
  "language_info": {
   "codemirror_mode": {
    "name": "ipython",
    "version": 3
   },
   "file_extension": ".py",
   "mimetype": "text/x-python",
   "name": "python",
   "nbconvert_exporter": "python",
   "pygments_lexer": "ipython3",
   "version": "3.9.21"
  }
 },
 "nbformat": 4,
 "nbformat_minor": 5
}
