{
 "cells": [
  {
   "cell_type": "markdown",
   "id": "d3ac2b14",
   "metadata": {},
   "source": [
    "# Lab 4: Urban Heat Island Detection using Thermal Satellite Imagery"
   ]
  },
  {
   "cell_type": "markdown",
   "id": "94a259ca",
   "metadata": {},
   "source": [
    "## Goal\n",
    "In this exercise, you will:\n",
    "1. Select and compare two thermal satellite images from Kraków (or another city that has recently undergone intensive, thoughtless concrete development) – one from **2013** and one from **2024**.\n",
    "2. Each image must be acquired on a **hot summer day** (T > 27°C based on IMGW meteorological data).\n",
    "3. Images must have **low cloud cover** (< 20%).\n",
    "4. Visualize thermal data and analyze surface temperature differences (Urban Heat Island effect)."
   ]
  },
  {
   "cell_type": "markdown",
   "id": "cfa7c6b9",
   "metadata": {},
   "source": [
    "## Task 1: Area of Interest (AOI)\n",
    "- Define an AOI over the Reduta Street area in Kraków.\n",
    "- Use `ee.Geometry.Polygon` or `ee.Geometry.Rectangle`."
   ]
  },
  {
   "cell_type": "code",
   "execution_count": 2,
   "id": "5de0b552",
   "metadata": {},
   "outputs": [
    {
     "data": {
      "text/html": [
       "<p>To authorize access needed by Earth Engine, open the following\n",
       "        URL in a web browser and follow the instructions:</p>\n",
       "        <p><a href=https://code.earthengine.google.com/client-auth?scopes=https%3A//www.googleapis.com/auth/earthengine%20https%3A//www.googleapis.com/auth/cloud-platform%20https%3A//www.googleapis.com/auth/devstorage.full_control&request_id=EO0KOtvs21kuJDoj6_9tTDayKsN-SxkHA1leco8rnnQ&tc=5UBd8ktec-0nIIPb6Xouu-n4co2O7I7kCfiKy4e7RIo&cc=RTi-unkLFJZaW0xACwSk4yVw8PNGuFkODAbZn-8dIz8>https://code.earthengine.google.com/client-auth?scopes=https%3A//www.googleapis.com/auth/earthengine%20https%3A//www.googleapis.com/auth/cloud-platform%20https%3A//www.googleapis.com/auth/devstorage.full_control&request_id=EO0KOtvs21kuJDoj6_9tTDayKsN-SxkHA1leco8rnnQ&tc=5UBd8ktec-0nIIPb6Xouu-n4co2O7I7kCfiKy4e7RIo&cc=RTi-unkLFJZaW0xACwSk4yVw8PNGuFkODAbZn-8dIz8</a></p>\n",
       "        <p>The authorization workflow will generate a code, which you should paste in the box below.</p>\n",
       "        "
      ],
      "text/plain": [
       "<IPython.core.display.HTML object>"
      ]
     },
     "metadata": {},
     "output_type": "display_data"
    },
    {
     "name": "stdout",
     "output_type": "stream",
     "text": [
      "\n",
      "Successfully saved authorization token.\n"
     ]
    }
   ],
   "source": [
    "# TODO: Define AOI\n",
    "import ee\n",
    "ee.Authenticate()\n",
    "ee.Initialize(project='ee-kamilmolo13')\n",
    "\n",
    "aoi = ee.Geometry.Rectangle([19.791, 50.051, 19.902, 50.102]) "
   ]
  },
  {
   "cell_type": "markdown",
   "id": "7817c68e",
   "metadata": {},
   "source": [
    "## Task 2: Download and Analyze IMGW Meteorological Data\n",
    "- Visit: [IMGW Archive](https://danepubliczne.imgw.pl/data/dane_pomiarowo_obserwacyjne/)\n",
    "- Navigate to:\n",
    "  - `dane_meteorologiczne/dobowe/synop/2013/`\n",
    "  - `dane_meteorologiczne/dobowe/synop/2024/`\n",
    "- Download `s_d_tmax.csv` for both years.\n",
    "- Filter the rows for **station ID 12566 (e.g. Kraków-Balice)**.\n",
    "- Identify days in **July or August** with **TMAX > 27°C**."
   ]
  },
  {
   "cell_type": "code",
   "execution_count": 4,
   "id": "e1484d16",
   "metadata": {},
   "outputs": [
    {
     "name": "stdout",
     "output_type": "stream",
     "text": [
      "Hot days in 2013:\n",
      "            0              1     2   3   4     5   6     7   8     9   ...  \\\n",
      "183  350190566  KRAKÓW-BALICE  2013   7   3  28.3 NaN  12.3 NaN  21.5  ...   \n",
      "184  350190566  KRAKÓW-BALICE  2013   7   4  28.3 NaN  14.2 NaN  21.9  ...   \n",
      "185  350190566  KRAKÓW-BALICE  2013   7   5  27.1 NaN  13.7 NaN  19.7  ...   \n",
      "190  350190566  KRAKÓW-BALICE  2013   7  10  27.7 NaN  12.9 NaN  20.9  ...   \n",
      "202  350190566  KRAKÓW-BALICE  2013   7  22  27.7 NaN  11.9 NaN  20.6  ...   \n",
      "206  350190566  KRAKÓW-BALICE  2013   7  26  28.9 NaN  13.9 NaN  21.6  ...   \n",
      "207  350190566  KRAKÓW-BALICE  2013   7  27  30.5 NaN  14.0 NaN  23.1  ...   \n",
      "208  350190566  KRAKÓW-BALICE  2013   7  28  35.0 NaN  16.9 NaN  26.3  ...   \n",
      "209  350190566  KRAKÓW-BALICE  2013   7  29  35.5 NaN  18.4 NaN  27.4  ...   \n",
      "210  350190566  KRAKÓW-BALICE  2013   7  30  29.6 NaN  18.1 NaN  20.0  ...   \n",
      "213  350190566  KRAKÓW-BALICE  2013   8   2  29.9 NaN  13.1 NaN  22.1  ...   \n",
      "214  350190566  KRAKÓW-BALICE  2013   8   3  31.4 NaN  14.1 NaN  23.6  ...   \n",
      "215  350190566  KRAKÓW-BALICE  2013   8   4  29.7 NaN  15.2 NaN  22.9  ...   \n",
      "216  350190566  KRAKÓW-BALICE  2013   8   5  30.8 NaN  17.4 NaN  24.1  ...   \n",
      "217  350190566  KRAKÓW-BALICE  2013   8   6  33.4 NaN  16.5 NaN  24.8  ...   \n",
      "218  350190566  KRAKÓW-BALICE  2013   8   7  36.1 NaN  18.4 NaN  26.4  ...   \n",
      "219  350190566  KRAKÓW-BALICE  2013   8   8  37.3 NaN  17.7 NaN  27.5  ...   \n",
      "220  350190566  KRAKÓW-BALICE  2013   8   9  29.6 NaN  18.5 NaN  22.5  ...   \n",
      "228  350190566  KRAKÓW-BALICE  2013   8  17  27.9 NaN  10.5 NaN  19.3  ...   \n",
      "229  350190566  KRAKÓW-BALICE  2013   8  18  30.6 NaN  12.2 NaN  21.6  ...   \n",
      "230  350190566  KRAKÓW-BALICE  2013   8  19  31.7 NaN  14.5 NaN  23.0  ...   \n",
      "\n",
      "     55  56  57   58  59   60  61  62  63  64  \n",
      "183 NaN   0 NaN    R   0  9.0   0   9   0   8  \n",
      "184 NaN   0 NaN    R   0  9.0   0   9   0   8  \n",
      "185 NaN   0 NaN    R   0  9.0   0   9   0   8  \n",
      "190 NaN   0 NaN    R   0  9.0   0   9   0   8  \n",
      "202 NaN   0 NaN    R   0  9.0   0   9   0   8  \n",
      "206 NaN   0 NaN    R   0  9.0   0   9   0   8  \n",
      "207 NaN   0 NaN    R   0  9.0   0   9   0   8  \n",
      "208 NaN   0 NaN    R   0  9.0   0   9   0   8  \n",
      "209 NaN   0 NaN    R   0  9.0   0   9   0   8  \n",
      "210 NaN   0 NaN    R   0  9.0   0   9   0   8  \n",
      "213 NaN   0 NaN    R   0  9.0   0   9   0   8  \n",
      "214 NaN   0 NaN    R   0  9.0   0   9   0   8  \n",
      "215 NaN   0 NaN    R   0  9.0   0   9   0   8  \n",
      "216 NaN   0 NaN  NaN   0  9.0   0   9   0   8  \n",
      "217 NaN   0 NaN  NaN   0  9.0   0   9   0   8  \n",
      "218 NaN   0 NaN    R   0  9.0   0   9   0   8  \n",
      "219 NaN   0 NaN  NaN   0  9.0   0   9   0   8  \n",
      "220 NaN   0 NaN    R   0  9.0   0   9   0   8  \n",
      "228 NaN   0 NaN    R   0  9.0   0   9   0   8  \n",
      "229 NaN   0 NaN    R   0  9.0   0   9   0   8  \n",
      "230 NaN   0 NaN    R   0  9.0   0   9   0   8  \n",
      "\n",
      "[21 rows x 65 columns]\n",
      "\n",
      "Hot days in 2024:\n",
      "            0                               1     2   3   4     5   6     7   \\\n",
      "182  350190566  KRAKÓW-BALICE                   2024   7   1  28.9 NaN  18.1   \n",
      "187  350190566  KRAKÓW-BALICE                   2024   7   6  30.1 NaN  13.1   \n",
      "188  350190566  KRAKÓW-BALICE                   2024   7   7  27.4 NaN  16.8   \n",
      "190  350190566  KRAKÓW-BALICE                   2024   7   9  30.6 NaN  17.1   \n",
      "191  350190566  KRAKÓW-BALICE                   2024   7  10  34.4 NaN  19.4   \n",
      "192  350190566  KRAKÓW-BALICE                   2024   7  11  29.8 NaN  20.4   \n",
      "193  350190566  KRAKÓW-BALICE                   2024   7  12  30.0 NaN  17.7   \n",
      "194  350190566  KRAKÓW-BALICE                   2024   7  13  29.2 NaN  19.4   \n",
      "196  350190566  KRAKÓW-BALICE                   2024   7  15  30.1 NaN  17.4   \n",
      "197  350190566  KRAKÓW-BALICE                   2024   7  16  31.2 NaN  19.1   \n",
      "198  350190566  KRAKÓW-BALICE                   2024   7  17  29.2 NaN  18.1   \n",
      "199  350190566  KRAKÓW-BALICE                   2024   7  18  28.1 NaN  16.9   \n",
      "200  350190566  KRAKÓW-BALICE                   2024   7  19  28.0 NaN  16.9   \n",
      "202  350190566  KRAKÓW-BALICE                   2024   7  21  29.0 NaN  15.9   \n",
      "203  350190566  KRAKÓW-BALICE                   2024   7  22  31.3 NaN  15.8   \n",
      "208  350190566  KRAKÓW-BALICE                   2024   7  27  30.6 NaN  15.7   \n",
      "209  350190566  KRAKÓW-BALICE                   2024   7  28  28.0 NaN  18.4   \n",
      "212  350190566  KRAKÓW-BALICE                   2024   7  31  29.4 NaN  11.2   \n",
      "214  350190566  KRAKÓW-BALICE                   2024   8   2  27.1 NaN  13.4   \n",
      "220  350190566  KRAKÓW-BALICE                   2024   8   8  27.6 NaN  14.1   \n",
      "222  350190566  KRAKÓW-BALICE                   2024   8  10  27.3 NaN  16.9   \n",
      "223  350190566  KRAKÓW-BALICE                   2024   8  11  27.3 NaN  15.0   \n",
      "224  350190566  KRAKÓW-BALICE                   2024   8  12  27.4 NaN  11.9   \n",
      "225  350190566  KRAKÓW-BALICE                   2024   8  13  27.1 NaN  12.7   \n",
      "226  350190566  KRAKÓW-BALICE                   2024   8  14  28.6 NaN  13.8   \n",
      "227  350190566  KRAKÓW-BALICE                   2024   8  15  31.5 NaN  16.8   \n",
      "228  350190566  KRAKÓW-BALICE                   2024   8  16  31.1 NaN  17.8   \n",
      "229  350190566  KRAKÓW-BALICE                   2024   8  17  30.2 NaN  17.4   \n",
      "230  350190566  KRAKÓW-BALICE                   2024   8  18  29.1 NaN  19.3   \n",
      "231  350190566  KRAKÓW-BALICE                   2024   8  19  27.3 NaN  18.5   \n",
      "235  350190566  KRAKÓW-BALICE                   2024   8  23  27.4 NaN  10.0   \n",
      "236  350190566  KRAKÓW-BALICE                   2024   8  24  31.8 NaN  13.4   \n",
      "237  350190566  KRAKÓW-BALICE                   2024   8  25  32.3 NaN  16.3   \n",
      "240  350190566  KRAKÓW-BALICE                   2024   8  28  30.0 NaN  16.9   \n",
      "241  350190566  KRAKÓW-BALICE                   2024   8  29  30.9 NaN  16.7   \n",
      "242  350190566  KRAKÓW-BALICE                   2024   8  30  31.7 NaN  15.8   \n",
      "243  350190566  KRAKÓW-BALICE                   2024   8  31  29.2 NaN  15.4   \n",
      "\n",
      "     8     9   ...  55  56  57  58  59 60  61  62  63  64  \n",
      "182 NaN  20.0  ... NaN   0 NaN   R NaN  8 NaN   8 NaN   8  \n",
      "187 NaN  23.1  ... NaN   0 NaN   R NaN  8 NaN   8 NaN   8  \n",
      "188 NaN  21.6  ... NaN   0 NaN   R NaN  8 NaN   8 NaN   8  \n",
      "190 NaN  24.1  ... NaN   0 NaN   R NaN  8 NaN   8 NaN   8  \n",
      "191 NaN  26.6  ... NaN   0 NaN   R NaN  8 NaN   8 NaN   8  \n",
      "192 NaN  23.3  ... NaN   0 NaN   R NaN  8 NaN   8 NaN   8  \n",
      "193 NaN  24.2  ... NaN   0 NaN   R NaN  8 NaN   8 NaN   8  \n",
      "194 NaN  23.8  ... NaN   0 NaN   R NaN  8 NaN   8 NaN   8  \n",
      "196 NaN  23.9  ... NaN   0 NaN   R NaN  8 NaN   8 NaN   8  \n",
      "197 NaN  23.0  ... NaN   0 NaN   R NaN  8 NaN   8 NaN   8  \n",
      "198 NaN  23.4  ... NaN   0 NaN   R NaN  8 NaN   8 NaN   8  \n",
      "199 NaN  22.7  ... NaN   0 NaN   R NaN  8 NaN   8 NaN   8  \n",
      "200 NaN  22.8  ... NaN   0 NaN   R NaN  8 NaN   8 NaN   8  \n",
      "202 NaN  22.6  ... NaN   0 NaN   R NaN  8 NaN   8 NaN   8  \n",
      "203 NaN  24.2  ... NaN   0 NaN   R NaN  8 NaN   8 NaN   8  \n",
      "208 NaN  23.6  ... NaN   0 NaN   R NaN  8 NaN   8 NaN   8  \n",
      "209 NaN  19.5  ... NaN   0 NaN   R NaN  8 NaN   8 NaN   8  \n",
      "212 NaN  21.1  ... NaN   0 NaN   R NaN  8 NaN   8 NaN   8  \n",
      "214 NaN  20.9  ... NaN   0 NaN   R NaN  8 NaN   8 NaN   8  \n",
      "220 NaN  20.1  ... NaN   1 NaN   R NaN  8 NaN   8 NaN   8  \n",
      "222 NaN  21.5  ... NaN   0 NaN   R NaN  8 NaN   8 NaN   8  \n",
      "223 NaN  21.5  ... NaN   0 NaN   R NaN  8 NaN   8 NaN   8  \n",
      "224 NaN  20.2  ... NaN   0 NaN   R NaN  8 NaN   8 NaN   8  \n",
      "225 NaN  20.4  ... NaN   0 NaN   R NaN  8 NaN   8 NaN   8  \n",
      "226 NaN  21.6  ... NaN   0 NaN   R NaN  8 NaN   8 NaN   8  \n",
      "227 NaN  23.7  ... NaN   0 NaN   R NaN  8 NaN   8 NaN   8  \n",
      "228 NaN  24.6  ... NaN   0 NaN   R NaN  8 NaN   8 NaN   8  \n",
      "229 NaN  22.4  ... NaN   0 NaN   R NaN  8 NaN   8 NaN   8  \n",
      "230 NaN  23.4  ... NaN   0 NaN   R NaN  8 NaN   8 NaN   8  \n",
      "231 NaN  22.3  ... NaN   1 NaN   R NaN  8 NaN   8 NaN   8  \n",
      "235 NaN  19.0  ... NaN   0 NaN   R NaN  8 NaN   8 NaN   8  \n",
      "236 NaN  23.1  ... NaN   0 NaN   R NaN  8 NaN   8 NaN   8  \n",
      "237 NaN  24.3  ... NaN   0 NaN   R NaN  8 NaN   8 NaN   8  \n",
      "240 NaN  23.3  ... NaN   0 NaN   R NaN  8 NaN   8 NaN   8  \n",
      "241 NaN  23.7  ... NaN   0 NaN   R NaN  8 NaN   8 NaN   8  \n",
      "242 NaN  23.5  ... NaN   0 NaN   R NaN  8 NaN   8 NaN   8  \n",
      "243 NaN  21.7  ... NaN   0 NaN   R NaN  8 NaN   8 NaN   8  \n",
      "\n",
      "[37 rows x 65 columns]\n"
     ]
    }
   ],
   "source": [
    "import pandas as pd\n",
    "\n",
    "data_2013 = pd.read_csv('/home/mamil/Desktop/eo_lab/rs-summer-2025-labs-KamilM13-main/lab-4-data/s_d_566_2013.csv', delimiter=',', encoding=\"cp1250\", header=None)\n",
    "data_2024 = pd.read_csv('/home/mamil/Desktop/eo_lab/rs-summer-2025-labs-KamilM13-main/lab-4-data/s_d_566_2024.csv', delimiter=',', encoding=\"cp1250\", header=None)\n",
    "\n",
    "hot_days_2013 = data_2013[\n",
    "    (data_2013[5] > 27) &\n",
    "    (data_2013[3].isin([7, 8]))\n",
    "]\n",
    "\n",
    "hot_days_2024 = data_2024[\n",
    "    (data_2024[5] > 27) &\n",
    "    (data_2024[3].isin([7, 8]))\n",
    "]\n",
    "\n",
    "print(\"Hot days in 2013:\")\n",
    "print(hot_days_2013)\n",
    "\n",
    "print(\"\\nHot days in 2024:\")\n",
    "print(hot_days_2024)"
   ]
  },
  {
   "cell_type": "markdown",
   "id": "c7f064e5",
   "metadata": {},
   "source": [
    "## Task 3: Select Landsat 8 Images Matching These Dates\n",
    "- In Earth Engine, use `LANDSAT/LC08/C02/T1_L2` collection.\n",
    "- Apply filters:\n",
    "  - `.filterBounds(aoi)`\n",
    "  - `.filterDate()` for the matching day\n",
    "  - `.filterMetadata('CLOUD_COVER', 'less_than', 20)`\n",
    "- Try to find **one image from 2013** and **one image from 2024** that match your hot days list."
   ]
  },
  {
   "cell_type": "code",
   "execution_count": 5,
   "id": "bdd68450",
   "metadata": {},
   "outputs": [
    {
     "name": "stdout",
     "output_type": "stream",
     "text": [
      "{'type': 'Image', 'bands': [{'id': 'SR_B1', 'data_type': {'type': 'PixelType', 'precision': 'int', 'min': 0, 'max': 65535}, 'dimensions': [7961, 8051], 'crs': 'EPSG:32634', 'crs_transform': [30, 0, 303885, 0, -30, 5690715]}, {'id': 'SR_B2', 'data_type': {'type': 'PixelType', 'precision': 'int', 'min': 0, 'max': 65535}, 'dimensions': [7961, 8051], 'crs': 'EPSG:32634', 'crs_transform': [30, 0, 303885, 0, -30, 5690715]}, {'id': 'SR_B3', 'data_type': {'type': 'PixelType', 'precision': 'int', 'min': 0, 'max': 65535}, 'dimensions': [7961, 8051], 'crs': 'EPSG:32634', 'crs_transform': [30, 0, 303885, 0, -30, 5690715]}, {'id': 'SR_B4', 'data_type': {'type': 'PixelType', 'precision': 'int', 'min': 0, 'max': 65535}, 'dimensions': [7961, 8051], 'crs': 'EPSG:32634', 'crs_transform': [30, 0, 303885, 0, -30, 5690715]}, {'id': 'SR_B5', 'data_type': {'type': 'PixelType', 'precision': 'int', 'min': 0, 'max': 65535}, 'dimensions': [7961, 8051], 'crs': 'EPSG:32634', 'crs_transform': [30, 0, 303885, 0, -30, 5690715]}, {'id': 'SR_B6', 'data_type': {'type': 'PixelType', 'precision': 'int', 'min': 0, 'max': 65535}, 'dimensions': [7961, 8051], 'crs': 'EPSG:32634', 'crs_transform': [30, 0, 303885, 0, -30, 5690715]}, {'id': 'SR_B7', 'data_type': {'type': 'PixelType', 'precision': 'int', 'min': 0, 'max': 65535}, 'dimensions': [7961, 8051], 'crs': 'EPSG:32634', 'crs_transform': [30, 0, 303885, 0, -30, 5690715]}, {'id': 'SR_QA_AEROSOL', 'data_type': {'type': 'PixelType', 'precision': 'int', 'min': 0, 'max': 255}, 'dimensions': [7961, 8051], 'crs': 'EPSG:32634', 'crs_transform': [30, 0, 303885, 0, -30, 5690715]}, {'id': 'ST_B10', 'data_type': {'type': 'PixelType', 'precision': 'int', 'min': 0, 'max': 65535}, 'dimensions': [7961, 8051], 'crs': 'EPSG:32634', 'crs_transform': [30, 0, 303885, 0, -30, 5690715]}, {'id': 'ST_ATRAN', 'data_type': {'type': 'PixelType', 'precision': 'int', 'min': -32768, 'max': 32767}, 'dimensions': [7961, 8051], 'crs': 'EPSG:32634', 'crs_transform': [30, 0, 303885, 0, -30, 5690715]}, {'id': 'ST_CDIST', 'data_type': {'type': 'PixelType', 'precision': 'int', 'min': -32768, 'max': 32767}, 'dimensions': [7961, 8051], 'crs': 'EPSG:32634', 'crs_transform': [30, 0, 303885, 0, -30, 5690715]}, {'id': 'ST_DRAD', 'data_type': {'type': 'PixelType', 'precision': 'int', 'min': -32768, 'max': 32767}, 'dimensions': [7961, 8051], 'crs': 'EPSG:32634', 'crs_transform': [30, 0, 303885, 0, -30, 5690715]}, {'id': 'ST_EMIS', 'data_type': {'type': 'PixelType', 'precision': 'int', 'min': -32768, 'max': 32767}, 'dimensions': [7961, 8051], 'crs': 'EPSG:32634', 'crs_transform': [30, 0, 303885, 0, -30, 5690715]}, {'id': 'ST_EMSD', 'data_type': {'type': 'PixelType', 'precision': 'int', 'min': -32768, 'max': 32767}, 'dimensions': [7961, 8051], 'crs': 'EPSG:32634', 'crs_transform': [30, 0, 303885, 0, -30, 5690715]}, {'id': 'ST_QA', 'data_type': {'type': 'PixelType', 'precision': 'int', 'min': -32768, 'max': 32767}, 'dimensions': [7961, 8051], 'crs': 'EPSG:32634', 'crs_transform': [30, 0, 303885, 0, -30, 5690715]}, {'id': 'ST_TRAD', 'data_type': {'type': 'PixelType', 'precision': 'int', 'min': -32768, 'max': 32767}, 'dimensions': [7961, 8051], 'crs': 'EPSG:32634', 'crs_transform': [30, 0, 303885, 0, -30, 5690715]}, {'id': 'ST_URAD', 'data_type': {'type': 'PixelType', 'precision': 'int', 'min': -32768, 'max': 32767}, 'dimensions': [7961, 8051], 'crs': 'EPSG:32634', 'crs_transform': [30, 0, 303885, 0, -30, 5690715]}, {'id': 'QA_PIXEL', 'data_type': {'type': 'PixelType', 'precision': 'int', 'min': 0, 'max': 65535}, 'dimensions': [7961, 8051], 'crs': 'EPSG:32634', 'crs_transform': [30, 0, 303885, 0, -30, 5690715]}, {'id': 'QA_RADSAT', 'data_type': {'type': 'PixelType', 'precision': 'int', 'min': 0, 'max': 65535}, 'dimensions': [7961, 8051], 'crs': 'EPSG:32634', 'crs_transform': [30, 0, 303885, 0, -30, 5690715]}], 'version': 1629937588631035, 'id': 'LANDSAT/LC08/C02/T1_L2/LC08_188025_20130807', 'properties': {'DATA_SOURCE_ELEVATION': 'GLS2000', 'WRS_TYPE': 2, 'REFLECTANCE_ADD_BAND_1': -0.2, 'REFLECTANCE_ADD_BAND_2': -0.2, 'DATUM': 'WGS84', 'REFLECTANCE_ADD_BAND_3': -0.2, 'REFLECTANCE_ADD_BAND_4': -0.2, 'REFLECTANCE_ADD_BAND_5': -0.2, 'REFLECTANCE_ADD_BAND_6': -0.2, 'REFLECTANCE_ADD_BAND_7': -0.2, 'system:footprint': {'type': 'LinearRing', 'coordinates': [[18.303677581783585, 49.65177901833434], [18.30133292851777, 49.6454221697321], [18.90553772048587, 49.54405425622745], [20.43068901409536, 49.272061416974104], [20.78767505688566, 49.20502980777063], [20.795156848047018, 49.22165223350327], [20.812724753064632, 49.260812094211545], [20.846299116331846, 49.3366913916675], [20.960894317499662, 49.59449062001309], [21.018781976495205, 49.72367884426564], [21.09011297161431, 49.88210528368771], [21.26662740692821, 50.27060803774402], [21.33723657085804, 50.42455372551448], [21.431226267038156, 50.628269860160465], [21.542624586079356, 50.86755318013306], [21.557776930613997, 50.900032235045025], [21.066301840034967, 50.99052971826459], [19.483846136514032, 51.26560675273733], [18.981570438608255, 51.347774233800926], [18.64045750035252, 50.50943184766103], [18.303677581783585, 49.65177901833434]]}, 'REFLECTIVE_SAMPLES': 7961, 'GROUND_CONTROL_POINTS_VERSION': 5, 'SUN_AZIMUTH': 150.58120427, 'DATA_SOURCE_TIRS_STRAY_LIGHT_CORRECTION': 'TIRS', 'UTM_ZONE': 34, 'DATE_ACQUIRED': '2013-08-07', 'ELLIPSOID': 'WGS84', 'system:time_end': 1375868067723, 'DATA_SOURCE_PRESSURE': 'Calculated', 'LANDSAT_PRODUCT_ID': 'LC08_L2SP_188025_20130807_20200912_02_T1', 'STATION_ID': 'LGN', 'TEMPERATURE_ADD_BAND_ST_B10': 149, 'DATA_SOURCE_REANALYSIS': 'GEOS-5 FP-IT', 'REFLECTANCE_MULT_BAND_7': 2.75e-05, 'system:time_start': 1375868067723, 'REFLECTANCE_MULT_BAND_6': 2.75e-05, 'L1_PROCESSING_LEVEL': 'L1TP', 'PROCESSING_SOFTWARE_VERSION': 'LPGS_15.3.1c', 'L1_DATE_PRODUCT_GENERATED': '2020-09-12T16:39:30Z', 'ORIENTATION': 'NORTH_UP', 'REFLECTANCE_MULT_BAND_1': 2.75e-05, 'WRS_ROW': 25, 'REFLECTANCE_MULT_BAND_3': 2.75e-05, 'REFLECTANCE_MULT_BAND_2': 2.75e-05, 'TARGET_WRS_ROW': 25, 'REFLECTANCE_MULT_BAND_5': 2.75e-05, 'REFLECTANCE_MULT_BAND_4': 2.75e-05, 'THERMAL_LINES': 8051, 'TIRS_SSM_POSITION_STATUS': 'NOMINAL', 'GRID_CELL_SIZE_THERMAL': 30, 'IMAGE_QUALITY_TIRS': 9, 'TRUNCATION_OLI': 'UPPER', 'NADIR_OFFNADIR': 'NADIR', 'CLOUD_COVER': 0.54, 'REQUEST_ID': 'L2', 'EARTH_SUN_DISTANCE': 1.0141122, 'GEOMETRIC_RMSE_VERIFY': 3.087, 'TIRS_SSM_MODEL': 'ACTUAL', 'COLLECTION_CATEGORY': 'T1', 'SCENE_CENTER_TIME': '09:34:27.7232760Z', 'GRID_CELL_SIZE_REFLECTIVE': 30, 'SUN_ELEVATION': 53.10373576, 'ALGORITHM_SOURCE_SURFACE_TEMPERATURE': 'st_1.3.0', 'TEMPERATURE_MAXIMUM_BAND_ST_B10': 372.999941, 'CLOUD_COVER_LAND': 0.54, 'GEOMETRIC_RMSE_MODEL': 4.206, 'ROLL_ANGLE': -0.001, 'COLLECTION_NUMBER': 2, 'DATE_PRODUCT_GENERATED': 1599929489000, 'L1_REQUEST_ID': 'L2', 'DATA_SOURCE_OZONE': 'MODIS', 'SATURATION_BAND_1': 'N', 'DATA_SOURCE_WATER_VAPOR': 'MODIS', 'SATURATION_BAND_2': 'Y', 'SATURATION_BAND_3': 'N', 'IMAGE_QUALITY_OLI': 9, 'SATURATION_BAND_4': 'N', 'LANDSAT_SCENE_ID': 'LC81880252013219LGN01', 'SATURATION_BAND_5': 'Y', 'MAP_PROJECTION': 'UTM', 'SATURATION_BAND_6': 'Y', 'SENSOR_ID': 'OLI_TIRS', 'SATURATION_BAND_7': 'Y', 'SATURATION_BAND_8': 'N', 'WRS_PATH': 188, 'SATURATION_BAND_9': 'N', 'TARGET_WRS_PATH': 188, 'L1_PROCESSING_SOFTWARE_VERSION': 'LPGS_15.3.1c', 'TEMPERATURE_MULT_BAND_ST_B10': 0.00341802, 'L1_LANDSAT_PRODUCT_ID': 'LC08_L1TP_188025_20130807_20200912_02_T1', 'PROCESSING_LEVEL': 'L2SP', 'ALGORITHM_SOURCE_SURFACE_REFLECTANCE': 'LaSRC_1.5.0', 'GROUND_CONTROL_POINTS_MODEL': 1030, 'SPACECRAFT_ID': 'LANDSAT_8', 'TEMPERATURE_MINIMUM_BAND_ST_B10': 149.003418, 'GEOMETRIC_RMSE_MODEL_Y': 3.163, 'REFLECTIVE_LINES': 8051, 'GEOMETRIC_RMSE_MODEL_X': 2.773, 'THERMAL_SAMPLES': 7961, 'system:asset_size': 1011600722, 'DATA_SOURCE_AIR_TEMPERATURE': 'MODIS', 'GROUND_CONTROL_POINTS_VERIFY': 129, 'system:index': 'LC08_188025_20130807'}}\n",
      "{'type': 'Image', 'bands': [{'id': 'SR_B1', 'data_type': {'type': 'PixelType', 'precision': 'int', 'min': 0, 'max': 65535}, 'dimensions': [7961, 8061], 'crs': 'EPSG:32634', 'crs_transform': [30, 0, 305085, 0, -30, 5690715]}, {'id': 'SR_B2', 'data_type': {'type': 'PixelType', 'precision': 'int', 'min': 0, 'max': 65535}, 'dimensions': [7961, 8061], 'crs': 'EPSG:32634', 'crs_transform': [30, 0, 305085, 0, -30, 5690715]}, {'id': 'SR_B3', 'data_type': {'type': 'PixelType', 'precision': 'int', 'min': 0, 'max': 65535}, 'dimensions': [7961, 8061], 'crs': 'EPSG:32634', 'crs_transform': [30, 0, 305085, 0, -30, 5690715]}, {'id': 'SR_B4', 'data_type': {'type': 'PixelType', 'precision': 'int', 'min': 0, 'max': 65535}, 'dimensions': [7961, 8061], 'crs': 'EPSG:32634', 'crs_transform': [30, 0, 305085, 0, -30, 5690715]}, {'id': 'SR_B5', 'data_type': {'type': 'PixelType', 'precision': 'int', 'min': 0, 'max': 65535}, 'dimensions': [7961, 8061], 'crs': 'EPSG:32634', 'crs_transform': [30, 0, 305085, 0, -30, 5690715]}, {'id': 'SR_B6', 'data_type': {'type': 'PixelType', 'precision': 'int', 'min': 0, 'max': 65535}, 'dimensions': [7961, 8061], 'crs': 'EPSG:32634', 'crs_transform': [30, 0, 305085, 0, -30, 5690715]}, {'id': 'SR_B7', 'data_type': {'type': 'PixelType', 'precision': 'int', 'min': 0, 'max': 65535}, 'dimensions': [7961, 8061], 'crs': 'EPSG:32634', 'crs_transform': [30, 0, 305085, 0, -30, 5690715]}, {'id': 'SR_QA_AEROSOL', 'data_type': {'type': 'PixelType', 'precision': 'int', 'min': 0, 'max': 255}, 'dimensions': [7961, 8061], 'crs': 'EPSG:32634', 'crs_transform': [30, 0, 305085, 0, -30, 5690715]}, {'id': 'ST_B10', 'data_type': {'type': 'PixelType', 'precision': 'int', 'min': 0, 'max': 65535}, 'dimensions': [7961, 8061], 'crs': 'EPSG:32634', 'crs_transform': [30, 0, 305085, 0, -30, 5690715]}, {'id': 'ST_ATRAN', 'data_type': {'type': 'PixelType', 'precision': 'int', 'min': -32768, 'max': 32767}, 'dimensions': [7961, 8061], 'crs': 'EPSG:32634', 'crs_transform': [30, 0, 305085, 0, -30, 5690715]}, {'id': 'ST_CDIST', 'data_type': {'type': 'PixelType', 'precision': 'int', 'min': -32768, 'max': 32767}, 'dimensions': [7961, 8061], 'crs': 'EPSG:32634', 'crs_transform': [30, 0, 305085, 0, -30, 5690715]}, {'id': 'ST_DRAD', 'data_type': {'type': 'PixelType', 'precision': 'int', 'min': -32768, 'max': 32767}, 'dimensions': [7961, 8061], 'crs': 'EPSG:32634', 'crs_transform': [30, 0, 305085, 0, -30, 5690715]}, {'id': 'ST_EMIS', 'data_type': {'type': 'PixelType', 'precision': 'int', 'min': -32768, 'max': 32767}, 'dimensions': [7961, 8061], 'crs': 'EPSG:32634', 'crs_transform': [30, 0, 305085, 0, -30, 5690715]}, {'id': 'ST_EMSD', 'data_type': {'type': 'PixelType', 'precision': 'int', 'min': -32768, 'max': 32767}, 'dimensions': [7961, 8061], 'crs': 'EPSG:32634', 'crs_transform': [30, 0, 305085, 0, -30, 5690715]}, {'id': 'ST_QA', 'data_type': {'type': 'PixelType', 'precision': 'int', 'min': -32768, 'max': 32767}, 'dimensions': [7961, 8061], 'crs': 'EPSG:32634', 'crs_transform': [30, 0, 305085, 0, -30, 5690715]}, {'id': 'ST_TRAD', 'data_type': {'type': 'PixelType', 'precision': 'int', 'min': -32768, 'max': 32767}, 'dimensions': [7961, 8061], 'crs': 'EPSG:32634', 'crs_transform': [30, 0, 305085, 0, -30, 5690715]}, {'id': 'ST_URAD', 'data_type': {'type': 'PixelType', 'precision': 'int', 'min': -32768, 'max': 32767}, 'dimensions': [7961, 8061], 'crs': 'EPSG:32634', 'crs_transform': [30, 0, 305085, 0, -30, 5690715]}, {'id': 'QA_PIXEL', 'data_type': {'type': 'PixelType', 'precision': 'int', 'min': 0, 'max': 65535}, 'dimensions': [7961, 8061], 'crs': 'EPSG:32634', 'crs_transform': [30, 0, 305085, 0, -30, 5690715]}, {'id': 'QA_RADSAT', 'data_type': {'type': 'PixelType', 'precision': 'int', 'min': 0, 'max': 65535}, 'dimensions': [7961, 8061], 'crs': 'EPSG:32634', 'crs_transform': [30, 0, 305085, 0, -30, 5690715]}], 'version': 1720660522204340.0, 'id': 'LANDSAT/LC08/C02/T1_L2/LC08_188025_20240618', 'properties': {'DATA_SOURCE_ELEVATION': 'GLS2000', 'WRS_TYPE': 2, 'REFLECTANCE_ADD_BAND_1': -0.2, 'REFLECTANCE_ADD_BAND_2': -0.2, 'DATUM': 'WGS84', 'REFLECTANCE_ADD_BAND_3': -0.2, 'REFLECTANCE_ADD_BAND_4': -0.2, 'REFLECTANCE_ADD_BAND_5': -0.2, 'REFLECTANCE_ADD_BAND_6': -0.2, 'REFLECTANCE_ADD_BAND_7': -0.2, 'system:footprint': {'type': 'LinearRing', 'coordinates': [[21.327000879172044, 50.33092540257019], [21.377610390056336, 50.44085244752597], [21.45137287134726, 50.60031076063689], [21.572369884141462, 50.8595873086175], [21.589439149196515, 50.89611279883413], [21.327578854744306, 50.94476668047869], [19.01307151997494, 51.34520150536961], [19.012446181770077, 51.3450266679621], [18.671357223694677, 50.50924481412776], [18.330442006873902, 49.64352285054436], [19.465889571520215, 49.449486058771825], [20.817648595752225, 49.20172956502822], [20.837913730336005, 49.24670179381632], [20.88179126284361, 49.34563823734553], [20.981245099833806, 49.56886073694351], [21.046523366136856, 49.714295840301816], [21.119327661999442, 49.875602908954534], [21.18978002881675, 50.03094470691141], [21.301895999715047, 50.27624507210698], [21.327000879172044, 50.33092540257019]]}, 'REFLECTIVE_SAMPLES': 7961, 'GROUND_CONTROL_POINTS_VERSION': 5, 'SUN_AZIMUTH': 146.71089733, 'DATA_SOURCE_TIRS_STRAY_LIGHT_CORRECTION': 'TIRS', 'UTM_ZONE': 34, 'DATE_ACQUIRED': '2024-06-18', 'ELLIPSOID': 'WGS84', 'system:time_end': 1718703097807, 'DATA_SOURCE_PRESSURE': 'Calculated', 'LANDSAT_PRODUCT_ID': 'LC08_L2SP_188025_20240618_20240706_02_T1', 'STATION_ID': 'LGN', 'TEMPERATURE_ADD_BAND_ST_B10': 149, 'DATA_SOURCE_REANALYSIS': 'GEOS-5 IT', 'REFLECTANCE_MULT_BAND_7': 2.75e-05, 'system:time_start': 1718703097807, 'REFLECTANCE_MULT_BAND_6': 2.75e-05, 'L1_PROCESSING_LEVEL': 'L1TP', 'PROCESSING_SOFTWARE_VERSION': 'LPGS_16.4.0', 'L1_DATE_PRODUCT_GENERATED': '2024-07-06T00:50:58Z', 'ORIENTATION': 'NORTH_UP', 'REFLECTANCE_MULT_BAND_1': 2.75e-05, 'WRS_ROW': 25, 'REFLECTANCE_MULT_BAND_3': 2.75e-05, 'REFLECTANCE_MULT_BAND_2': 2.75e-05, 'TARGET_WRS_ROW': 25, 'REFLECTANCE_MULT_BAND_5': 2.75e-05, 'REFLECTANCE_MULT_BAND_4': 2.75e-05, 'THERMAL_LINES': 8061, 'TIRS_SSM_POSITION_STATUS': 'ESTIMATED', 'GRID_CELL_SIZE_THERMAL': 30, 'IMAGE_QUALITY_TIRS': 9, 'TRUNCATION_OLI': 'UPPER', 'NADIR_OFFNADIR': 'NADIR', 'CLOUD_COVER': 24.28, 'REQUEST_ID': '1906107_00015', 'EARTH_SUN_DISTANCE': 1.0160227, 'GEOMETRIC_RMSE_VERIFY': 5.361, 'TIRS_SSM_MODEL': 'FINAL', 'COLLECTION_CATEGORY': 'T1', 'SCENE_CENTER_TIME': '09:31:37.8076410Z', 'GRID_CELL_SIZE_REFLECTIVE': 30, 'SUN_ELEVATION': 59.88876164, 'ALGORITHM_SOURCE_SURFACE_TEMPERATURE': 'st_1.5.0', 'TEMPERATURE_MAXIMUM_BAND_ST_B10': 372.999941, 'CLOUD_COVER_LAND': 24.28, 'GEOMETRIC_RMSE_MODEL': 6.816, 'ROLL_ANGLE': -0.001, 'COLLECTION_NUMBER': 2, 'DATE_PRODUCT_GENERATED': 1720228797000, 'L1_REQUEST_ID': '1906107_00015', 'DATA_SOURCE_OZONE': 'VIIRS', 'SATURATION_BAND_1': 'Y', 'DATA_SOURCE_WATER_VAPOR': 'VIIRS', 'SATURATION_BAND_2': 'Y', 'SATURATION_BAND_3': 'Y', 'IMAGE_QUALITY_OLI': 9, 'SATURATION_BAND_4': 'Y', 'LANDSAT_SCENE_ID': 'LC81880252024170LGN00', 'SATURATION_BAND_5': 'Y', 'MAP_PROJECTION': 'UTM', 'SATURATION_BAND_6': 'Y', 'SENSOR_ID': 'OLI_TIRS', 'SATURATION_BAND_7': 'Y', 'SATURATION_BAND_8': 'N', 'WRS_PATH': 188, 'SATURATION_BAND_9': 'N', 'TARGET_WRS_PATH': 188, 'L1_PROCESSING_SOFTWARE_VERSION': 'LPGS_16.4.0', 'TEMPERATURE_MULT_BAND_ST_B10': 0.00341802, 'L1_LANDSAT_PRODUCT_ID': 'LC08_L1TP_188025_20240618_20240706_02_T1', 'PROCESSING_LEVEL': 'L2SP', 'ALGORITHM_SOURCE_SURFACE_REFLECTANCE': 'LaSRC_1.6.0', 'GROUND_CONTROL_POINTS_MODEL': 470, 'SPACECRAFT_ID': 'LANDSAT_8', 'TEMPERATURE_MINIMUM_BAND_ST_B10': 149.003418, 'GEOMETRIC_RMSE_MODEL_Y': 4.761, 'REFLECTIVE_LINES': 8061, 'GEOMETRIC_RMSE_MODEL_X': 4.878, 'THERMAL_SAMPLES': 7961, 'system:asset_size': 1056659904, 'DATA_SOURCE_AIR_TEMPERATURE': 'VIIRS', 'GROUND_CONTROL_POINTS_VERIFY': 67, 'system:index': 'LC08_188025_20240618'}}\n"
     ]
    }
   ],
   "source": [
    "image_2013 = ee.ImageCollection('LANDSAT/LC08/C02/T1_L2') \\\n",
    "    .filterBounds(aoi) \\\n",
    "    .filterDate('2013-07-26', '2013-08-09') \\\n",
    "    .sort('CLOUDY_PIXEL_PERCENTAGE') \\\n",
    "    .first()\n",
    "\n",
    "image_2024 = ee.ImageCollection('LANDSAT/LC08/C02/T1_L2') \\\n",
    "    .filterBounds(aoi) \\\n",
    "    .filterDate('2024-06-18', '2024-07-09') \\\n",
    "    .sort('CLOUDY_PIXEL_PERCENTAGE') \\\n",
    "    .first()\n",
    "\n",
    "    \n",
    "\n",
    "print(image_2013.getInfo())\n",
    "print(image_2024.getInfo())"
   ]
  },
  {
   "cell_type": "markdown",
   "id": "721a6015",
   "metadata": {},
   "source": [
    "## Task 4: Process Thermal Band (ST_B10)\n",
    "- Convert Band 10 to Brightness Temperature (Kelvin):\n",
    "  `TB = ST_B10 * 0.00341802 + 149.0`\n",
    "- Create a visualization of each image using the same color scale."
   ]
  },
  {
   "cell_type": "code",
   "execution_count": 6,
   "id": "7eda86fa",
   "metadata": {},
   "outputs": [
    {
     "data": {
      "application/vnd.jupyter.widget-view+json": {
       "model_id": "a2dbc6a5266b4da2baa4969f37591b03",
       "version_major": 2,
       "version_minor": 0
      },
      "text/plain": [
       "Map(center=[50.093306, 19.974584], controls=(WidgetControl(options=['position', 'transparent_bg'], widget=Sear…"
      ]
     },
     "execution_count": 6,
     "metadata": {},
     "output_type": "execute_result"
    }
   ],
   "source": [
    "TB_im13 = image_2013.select('ST_B10').multiply(0.00341802).add(149).rename('TB')\n",
    "TB_im24 = image_2024.select('ST_B10').multiply(0.00341802).add(149).rename('TB')\n",
    "TB_diff = TB_im24.subtract(TB_im13).rename('TB_diff')\n",
    "\n",
    "meta13 = TB_im13.getInfo()\n",
    "meta24 = TB_im24.getInfo()\n",
    "meta_diff = TB_diff.getInfo()\n",
    "\n",
    "import geemap\n",
    "viz_params = {'bands': ['TB']}\n",
    "# Add Sentinel-2 images for both dates to the map using this composite.\n",
    "Map = geemap.Map()\n",
    "centerpoint = ee.Geometry.Point([19.974584, 50.093306])\n",
    "Map.centerObject(centerpoint, zoom=14)\n",
    "\n",
    "Map.addLayer(TB_im13, {\n",
    "    'min': meta13['bands'][0]['data_type']['min'],\n",
    "    'max': meta13['bands'][0]['data_type']['max'],\n",
    "    'palette': ['blue', 'yellow', 'red']\n",
    "}, 'Temperature 2013')\n",
    "\n",
    "Map.addLayer(TB_im24, {\n",
    "    'min': meta24['bands'][0]['data_type']['min'],\n",
    "    'max': meta24['bands'][0]['data_type']['max'],\n",
    "    'palette': ['blue', 'yellow', 'red']\n",
    "}, 'Temperature 2024')\n",
    "\n",
    "Map.addLayer(TB_diff, {\n",
    "    'min': meta_diff['bands'][0]['data_type']['min'],\n",
    "    'max': meta_diff['bands'][0]['data_type']['max'],\n",
    "    'palette': ['blue', 'green', 'red']\n",
    "}, 'Temperature Difference 2013-2024')\n",
    "\n",
    "Map"
   ]
  },
  {
   "cell_type": "markdown",
   "id": "aa3b092a",
   "metadata": {},
   "source": [
    "## Task 5: Compare and Interpret\n",
    "- Compare the two maps.\n",
    "- Optionally calculate difference: `TB_2024 - TB_2013`\n",
    "- Discuss: did the surface temperature increase in the area?\n",
    "- Is there evidence of an Urban Heat Island effect related to development?"
   ]
  },
  {
   "cell_type": "markdown",
   "id": "e138efb3",
   "metadata": {},
   "source": [
    "\n",
    "Despite development, surfer temperatures were clearly higher in 2013, especially near Krakow. There were also more Urban Heat Islands than in 2024, though some still appear in the city centre. The temperature difference map shows similar overall temperatures. It's hard to link this directly to development—some areas suggest a connection, but overall, changes over the 10 years weren’t significant. More data and analysis are needed for firm conclusions.\n"
   ]
  }
 ],
 "metadata": {
  "kernelspec": {
   "display_name": "eo_lab",
   "language": "python",
   "name": "python3"
  },
  "language_info": {
   "codemirror_mode": {
    "name": "ipython",
    "version": 3
   },
   "file_extension": ".py",
   "mimetype": "text/x-python",
   "name": "python",
   "nbconvert_exporter": "python",
   "pygments_lexer": "ipython3",
   "version": "3.9.21"
  }
 },
 "nbformat": 4,
 "nbformat_minor": 5
}
