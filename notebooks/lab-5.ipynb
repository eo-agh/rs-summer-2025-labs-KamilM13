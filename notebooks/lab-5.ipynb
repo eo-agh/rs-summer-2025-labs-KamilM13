{
 "cells": [
  {
   "cell_type": "markdown",
   "id": "0f11c463",
   "metadata": {},
   "source": [
    "# Lab 5: Land Surface Temperature using CORINE-based Emissivity"
   ]
  },
  {
   "cell_type": "markdown",
   "id": "290155fd",
   "metadata": {},
   "source": [
    "## 🎯 Objectives\n",
    "In this exercise, you will:\n",
    "- Select a cloud-free Landsat 8 images from 2013 and 2023 (or different if you're sure that you'll spot a difference in land cover)\n",
    "- Calculate Brightness Temperature (TB) from Band 10.\n",
    "- Load CORINE Land Cover data and assign emissivity values to each land cover class.\n",
    "- Use the Planck-based formula to calculate Land Surface Temperature (LST).\n",
    "- Visualize and interpret the results."
   ]
  },
  {
   "cell_type": "markdown",
   "id": "16d50ca3",
   "metadata": {},
   "source": [
    "## Step 1: Define Area of Interest (AOI)\n",
    "- Use coordinates around Reduta street in Kraków.\n",
    "- Create a polygon or rectangle using `ee.Geometry.Polygon`."
   ]
  },
  {
   "cell_type": "code",
   "execution_count": 1,
   "id": "9a13c0ee",
   "metadata": {},
   "outputs": [],
   "source": [
    "# TODO: Define AOI\n",
    "import ee\n",
    "ee.Authenticate()\n",
    "ee.Initialize(project='ee-kamilmolo13')\n",
    "\n",
    "aoi = ee.Geometry.Polygon([\n",
    "        [19.973, 50.094], \n",
    "        [19.973, 50.101],  \n",
    "        [19.988, 50.101],  \n",
    "        [19.988, 50.094],  \n",
    "        [19.973, 50.094]  \n",
    "    ])"
   ]
  },
  {
   "cell_type": "markdown",
   "id": "116de1cc",
   "metadata": {},
   "source": [
    "## Step 2: Load Landsat 8 imagery for the dates you've picked\n",
    "- Filter for low cloud cover (< 20%)\n",
    "- Select Band 10 and convert to TB using: `TB = ST_B10 * 0.00341802 + 149.0`"
   ]
  },
  {
   "cell_type": "code",
   "execution_count": 2,
   "id": "bdb32790",
   "metadata": {},
   "outputs": [],
   "source": [
    "# Load image and calculate TB\n",
    "image_2013 = ee.ImageCollection('LANDSAT/LC08/C02/T1_L2') \\\n",
    "    .filterBounds(aoi) \\\n",
    "    .filterDate('2013-07-26', '2013-08-09') \\\n",
    "    .sort('CLOUDY_PIXEL_PERCENTAGE') \\\n",
    "    .first()\n",
    "\n",
    "image_2024 = ee.ImageCollection('LANDSAT/LC08/C02/T1_L2') \\\n",
    "    .filterBounds(aoi) \\\n",
    "    .filterDate('2023-06-18', '2023-07-09') \\\n",
    "    .sort('CLOUDY_PIXEL_PERCENTAGE') \\\n",
    "    .first()\n",
    "TB_im13 = image_2013.select('ST_B10').multiply(0.00341802).add(149).rename('TB')\n",
    "TB_im24 = image_2024.select('ST_B10').multiply(0.00341802).add(149).rename('TB')"
   ]
  },
  {
   "cell_type": "markdown",
   "id": "57c2c4ea",
   "metadata": {},
   "source": [
    "## Step 3: Load CORINE Land Cover data\n",
    "- Use dataset `COPERNICUS/CORINE/V20/100m/2018`\n",
    "- Clip it to your AOI"
   ]
  },
  {
   "cell_type": "code",
   "execution_count": 3,
   "id": "815fa4f6",
   "metadata": {},
   "outputs": [
    {
     "name": "stdout",
     "output_type": "stream",
     "text": [
      "{'type': 'Image', 'bands': [{'id': 'landcover', 'data_type': {'type': 'PixelType', 'precision': 'int', 'min': -32768, 'max': 32767}, 'dimensions': [13, 10], 'origin': [41320, 24526], 'crs': 'EPSG:3035', 'crs_transform': [100, 0, 900000, 0, -100, 5500000]}], 'version': 1578598451411424, 'id': 'COPERNICUS/CORINE/V20/100m/2018', 'properties': {'system:footprint': {'type': 'Polygon', 'coordinates': [[[19.973, 50.094], [19.987999999999996, 50.094], [19.987999999999996, 50.101], [19.973, 50.101], [19.973, 50.094]]]}, 'system:time_start': 1483228800000, 'landcover_class_names': ['Artificial surfaces; urban fabric; continuous urban fabric', 'Artificial surfaces; urban fabric; discontinuous urban fabric', 'Artificial surfaces; industrial, commercial, and transport units; industrial or commercial units', 'Artificial surfaces; industrial, commercial, and transport units; road and rail networks and associated land', 'Artificial surfaces; industrial, commercial, and transport units; port areas', 'Artificial surfaces; industrial, commercial, and transport units; airports', 'Artificial surfaces; mine, dump, and construction sites; mineral extraction sites', 'Artificial surfaces; mine, dump, and construction sites; dump sites', 'Artificial surfaces; mine, dump, and construction sites; construction sites', 'Artificial surfaces; artificial, non-agricultural vegetated areas; green urban areas', 'Artificial surfaces; artificial, non-agricultural vegetated areas; sport and leisure facilities', 'Agricultural areas; arable land; non-irrigated arable land', 'Agricultural areas; arable land; permanently irrigated land', 'Agricultural areas; arable land; rice fields', 'Agricultural areas; permanent crops; vineyards', 'Agricultural areas; permanent crops; fruit trees and berry plantations', 'Agricultural areas; permanent crops; olive groves', 'Agricultural areas; pastures; pastures', 'Agricultural areas; heterogeneous agricultural areas; annual crops associated with permanent crops', 'Agricultural areas; heterogeneous agricultural areas; complex cultivation patterns', 'Agricultural areas; heterogeneous agricultural areas; land principally occupied by agriculture, with significant areas of natural vegetation', 'Agricultural areas; heterogeneous agricultural areas; agro-forestry areas', 'Forest and semi natural areas; forests; broad-leaved forest', 'Forest and semi natural areas; forests; coniferous forest', 'Forest and semi natural areas; forests; mixed forest', 'Forest and semi natural areas; scrub and/or herbaceous vegetation associations; natural grasslands', 'Forest and semi natural areas; scrub and/or herbaceous vegetation associations; moors and heathland', 'Forest and semi natural areas; scrub and/or herbaceous vegetation associations; sclerophyllous vegetation', 'Forest and semi natural areas; scrub and/or herbaceous vegetation associations; transitional woodland-shrub', 'Forest and semi natural areas; open spaces with little or no vegetation; beaches, dunes, sands', 'Forest and semi natural areas; open spaces with little or no vegetation; bare rocks', 'Forest and semi natural areas; open spaces with little or no vegetation; sparsely vegetated areas', 'Forest and semi natural areas; open spaces with little or no vegetation; burnt areas', 'Forest and semi natural areas; open spaces with little or no vegetation; glaciers and perpetual snow', 'Wetlands; inland wetlands; inland marshes', 'Wetlands; inland wetlands; peat bogs', 'Wetlands; maritime wetlands; salt marshes', 'Wetlands; maritime wetlands; salines', 'Wetlands; maritime wetlands; intertidal flats', 'Water bodies; inland waters; water courses', 'Water bodies; inland waters; water bodies', 'Water bodies; marine waters; coastal lagoons', 'Water bodies; marine waters; estuaries', 'Water bodies; marine waters; sea and ocean'], 'system:time_end': 1546300800000, 'landcover_class_values': [111, 112, 121, 122, 123, 124, 131, 132, 133, 141, 142, 211, 212, 213, 221, 222, 223, 231, 241, 242, 243, 244, 311, 312, 313, 321, 322, 323, 324, 331, 332, 333, 334, 335, 411, 412, 421, 422, 423, 511, 512, 521, 522, 523], 'system:asset_size': 134244151, 'landcover_class_palette': ['E6004D', 'FF0000', 'CC4DF2', 'CC0000', 'E6CCCC', 'E6CCE6', 'A600CC', 'A64DCC', 'FF4DFF', 'FFA6FF', 'FFE6FF', 'FFFFA8', 'FFFF00', 'E6E600', 'E68000', 'F2A64D', 'E6A600', 'E6E64D', 'FFE6A6', 'FFE64D', 'E6CC4D', 'F2CCA6', '80FF00', '00A600', '4DFF00', 'CCF24D', 'A6FF80', 'A6E64D', 'A6F200', 'E6E6E6', 'CCCCCC', 'CCFFCC', '000000', 'A6E6CC', 'A6A6FF', '4D4DFF', 'CCCCFF', 'E6E6FF', 'A6A6E6', '00CCF2', '80F2E6', '00FFA6', 'A6FFE6', 'E6F2FF'], 'system:index': '2018'}}\n"
     ]
    }
   ],
   "source": [
    "# Load CORINE\n",
    "corine_image = ee.Image('COPERNICUS/CORINE/V20/100m/2018')\n",
    "\n",
    "corine_image = corine_image.clip(aoi)\n",
    "\n",
    "print(corine_image.getInfo())"
   ]
  },
  {
   "cell_type": "markdown",
   "id": "d9991cfc",
   "metadata": {},
   "source": [
    "## Step 4: Assign emissivity to CORINE classes\n",
    "- Use a dictionary for classes\n",
    "- Use `remap()` and optionally a default value"
   ]
  },
  {
   "cell_type": "code",
   "execution_count": 4,
   "id": "3d027423",
   "metadata": {},
   "outputs": [],
   "source": [
    "import numpy as np\n",
    "# Create emissivity image\n",
    "emissivity_dict = {\n",
    "    111: 0.92,  # Continuous urban fabric\n",
    "    112: 0.92,  # Discontinuous urban fabric\n",
    "    121: 0.91,  # Industrial or commercial units\n",
    "    211: 0.96,  # Non-irrigated arable land\n",
    "    311: 0.98,  # Forests\n",
    "    412: 0.97,  # Peat bogs\n",
    "    324: 0.96,  # Transitional woodland-shrub\n",
    "    231: 0.97   # Pastures\n",
    "}\n",
    "\n",
    "keys = list(emissivity_dict.keys())\n",
    "values = list(emissivity_dict.values())\n",
    "emissivity_image = corine_image.remap(keys, values)\n"
   ]
  },
  {
   "cell_type": "markdown",
   "id": "dd518aea",
   "metadata": {},
   "source": [
    "## Step 5: Calculate LST using the formula:\n",
    "$$\n",
    "LST = \\frac{T_B}{1 + \\left( \\frac{\\lambda \\cdot T_B}{c_2} \\right) \\cdot \\ln(\\varepsilon)}\n",
    "$$\n",
    "- λ = 10.8 µm\n",
    "- c₂ = 14388 µm·K"
   ]
  },
  {
   "cell_type": "code",
   "execution_count": 5,
   "id": "171008bc",
   "metadata": {},
   "outputs": [],
   "source": [
    "# Calculate LST\n",
    "lambda_ = 10.8\n",
    "c2 = 14388\n",
    "\n",
    "lst_image = TB_im13.expression(\n",
    "    'TB / (1 + ((lambda * TB) / c2) * log(1.0 / emissivity))', {\n",
    "        'TB': TB_im13,\n",
    "        'emissivity': emissivity_image,\n",
    "        'lambda': lambda_,\n",
    "        'c2': c2\n",
    "    }).rename('LST')"
   ]
  },
  {
   "cell_type": "markdown",
   "id": "ffdeffa4",
   "metadata": {},
   "source": [
    "## Step 6: Visualize the LST result\n",
    "- Use palette: `['blue', 'yellow', 'red']`\n",
    "- Suggested range: `min=290`, `max=325`"
   ]
  },
  {
   "cell_type": "code",
   "execution_count": 6,
   "id": "b4d0f08e",
   "metadata": {},
   "outputs": [
    {
     "data": {
      "application/vnd.jupyter.widget-view+json": {
       "model_id": "c066cbe09f2741cea7108589a39c994a",
       "version_major": 2,
       "version_minor": 0
      },
      "text/plain": [
       "Map(center=[50.097500156313984, 19.980500000000532], controls=(WidgetControl(options=['position', 'transparent…"
      ]
     },
     "execution_count": 6,
     "metadata": {},
     "output_type": "execute_result"
    }
   ],
   "source": [
    "import geemap\n",
    "# Visualize LST\n",
    "Map = geemap.Map()\n",
    "Map.centerObject(aoi, zoom=15)\n",
    "\n",
    "vis_params = {\n",
    "    'palette': ['blue', 'yellow', 'red'],\n",
    "    'min': 290,\n",
    "    'max': 325,\n",
    "}\n",
    "\n",
    "Map.addLayer(lst_image, vis_params, 'LST')\n",
    "Map"
   ]
  },
  {
   "cell_type": "markdown",
   "id": "74c186bf",
   "metadata": {},
   "source": [
    "## Step 7: (Optional) Analyze statistics by land cover class"
   ]
  },
  {
   "cell_type": "code",
   "execution_count": null,
   "id": "05596938",
   "metadata": {},
   "outputs": [],
   "source": [
    "# Optionally compute zonal statistics"
   ]
  },
  {
   "cell_type": "markdown",
   "id": "40c948a6",
   "metadata": {},
   "source": [
    "## Step 8: (Optional - Easter Egg :)) Generate your own Land Cover Classification using TerraTorch and foundation models*\n",
    "\n",
    "Based on the example/tutorial: https://aiforgood.itu.int/event/workshop-earth-observation-foundation-models-with-prithvi-eo-2-0-and-terratorch/\n",
    "\n",
    "*to earn 5.0 grade that will make a great impact on your final grade"
   ]
  },
  {
   "cell_type": "markdown",
   "id": "d4178201",
   "metadata": {},
   "source": []
  },
  {
   "cell_type": "markdown",
   "id": "7092e98e",
   "metadata": {},
   "source": []
  }
 ],
 "metadata": {
  "kernelspec": {
   "display_name": "eo_lab",
   "language": "python",
   "name": "python3"
  },
  "language_info": {
   "codemirror_mode": {
    "name": "ipython",
    "version": 3
   },
   "file_extension": ".py",
   "mimetype": "text/x-python",
   "name": "python",
   "nbconvert_exporter": "python",
   "pygments_lexer": "ipython3",
   "version": "3.9.21"
  }
 },
 "nbformat": 4,
 "nbformat_minor": 5
}
