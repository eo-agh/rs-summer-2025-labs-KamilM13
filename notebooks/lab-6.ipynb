{
 "cells": [
  {
   "cell_type": "markdown",
   "id": "47c657de",
   "metadata": {},
   "source": [
    "\n",
    "# 🌍 Manual TOA Reflectance from Landsat 8\n",
    "\n",
    "## 🎯 Learning Objectives:\n",
    "- Load Landsat 8 Level-1 data from Earth Engine\n",
    "- Understand the process of converting DN values to radiance\n",
    "- Compute Top-of-Atmosphere (TOA) reflectance from radiance\n",
    "- Visualize results on an interactive map using `geemap`\n",
    "\n",
    "---\n",
    "\n",
    "## 📝 Your Tasks:\n",
    "1. Load a Landsat 8 Level-1 image over Kraków in July 2021.\n",
    "2. From metadata, extract the scaling coefficients for each band (RADIANCE_MULT, RADIANCE_ADD).\n",
    "3. Convert DN to Radiance using the linear formula.\n",
    "4. Use the ESUN values and solar elevation to convert Radiance to TOA Reflectance.\n",
    "5. Visualize both the original DN RGB and your TOA Reflectance RGB image.\n",
    "6. (Optional) Try using a different location or time range.\n"
   ]
  },
  {
   "cell_type": "markdown",
   "id": "34ab523d",
   "metadata": {},
   "source": [
    "\n",
    "## 🗺️ Step 1: Define Area of Interest (AOI)\n",
    "\n",
    "Use Kraków (Poland) as your starting point. You can define this using a point geometry.\n"
   ]
  },
  {
   "cell_type": "code",
   "execution_count": 1,
   "id": "c22ba8b5",
   "metadata": {},
   "outputs": [],
   "source": [
    "# TODO: Define AOI\n",
    "import ee\n",
    "ee.Authenticate()\n",
    "ee.Initialize(project='ee-kamilmolo13')\n",
    "\n",
    "aoi = ee.Geometry.Point([19.973, 50.094])"
   ]
  },
  {
   "cell_type": "markdown",
   "id": "37768612",
   "metadata": {},
   "source": [
    "\n",
    "## 📦 Step 2: Load Landsat 8 Level-1 Image (Collection 2)\n",
    "\n",
    "Load the `LANDSAT/LC08/C02/T1_L1` collection, filter for July 2021, and select the image with the least cloud cover.\n"
   ]
  },
  {
   "cell_type": "code",
   "execution_count": 2,
   "id": "1c6a9c00",
   "metadata": {},
   "outputs": [],
   "source": [
    "image = ee.ImageCollection('LANDSAT/LC08/C02/T1') \\\n",
    "    .filterBounds(aoi) \\\n",
    "    .filterDate('2021-07-01', '2022-07-30') \\\n",
    "    .sort('CLOUD_COVER') \\\n",
    "    .first()"
   ]
  },
  {
   "cell_type": "markdown",
   "id": "f8019cf1",
   "metadata": {},
   "source": [
    "\n",
    "## 🔢 Step 3: Convert DN to Radiance\n",
    "\n",
    "Use the formula:\n",
    "\n",
    "```\n",
    "Radiance = M_L * DN + A_L\n",
    "```\n",
    "\n",
    "Where:\n",
    "- `M_L` is `RADIANCE_MULT_BAND_X` from metadata\n",
    "- `A_L` is `RADIANCE_ADD_BAND_X`\n",
    "- DN is the digital number of each band\n",
    "\n",
    "💡 Tip: You can use `image.get('RADIANCE_MULT_BAND_4')` to retrieve the multiplier for band 4.\n"
   ]
  },
  {
   "cell_type": "code",
   "execution_count": 11,
   "id": "4c5d8a2e",
   "metadata": {},
   "outputs": [],
   "source": [
    "def DN2Radiance(image: ee.Image, bands:list) -> dict:\n",
    "    radiance_dict = {}\n",
    "\n",
    "    for band in bands:\n",
    "        M_L = image.get(f'RADIANCE_MULT_BAND_{band[1]}').getInfo()\n",
    "        A_L = image.get(f'RADIANCE_ADD_BAND_{band[1]}').getInfo()\n",
    "\n",
    "        dn_value = image.select(band)\n",
    "        \n",
    "        radiance = dn_value.multiply(M_L).add(A_L)\n",
    "        radiance_dict[f'{band}'] = radiance\n",
    "\n",
    "    return radiance_dict\n",
    "    \n",
    "bands = ['B2', 'B3', 'B4', 'B5']\n",
    "radiance_dict = DN2Radiance(image, bands)"
   ]
  },
  {
   "cell_type": "markdown",
   "id": "29d08a4a",
   "metadata": {},
   "source": [
    "\n",
    "## 📊 Step 4: Convert Radiance to TOA Reflectance\n",
    "\n",
    "Use the following equation from the USGS Landsat Handbook:\n",
    "\n",
    "```\n",
    "TOA Reflectance = (π * L_λ * d²) / (ESUN * cos(θ_s))\n",
    "```\n",
    "\n",
    "Where:\n",
    "- `L_λ` = radiance\n",
    "- `d` = Earth–Sun distance in AU (assume 1.0 for simplification)\n",
    "- `ESUN` = solar spectral irradiance (use constants from handbook)\n",
    "- `θ_s` = solar zenith angle = 90° - sun elevation (from image metadata)\n",
    "\n",
    "Use these ESUN values:\n",
    "- B2: 2067  \n",
    "- B3: 1893  \n",
    "- B4: 1603  \n",
    "- B5: 972\n"
   ]
  },
  {
   "cell_type": "code",
   "execution_count": 12,
   "id": "62f756ad",
   "metadata": {},
   "outputs": [],
   "source": [
    "import math\n",
    "def Radiance2Reflectance(theta_s: float, radiance_ESUN: dict) -> dict:\n",
    "    d = 1.0\n",
    "    reflectance_dict = {}\n",
    "\n",
    "    for band in radiance_ESUN.keys():\n",
    "        L_lambda = radiance_ESUN[band][0]\n",
    "        ESUN = radiance_ESUN[band][1]\n",
    "\n",
    "        TOA_reflectance = L_lambda.multiply(math.pi*d*d).divide(ESUN * math.cos(math.radians(theta_s)))\n",
    "\n",
    "        reflectance_dict[f'{band}'] = TOA_reflectance\n",
    "\n",
    "    return reflectance_dict\n",
    "\n",
    "\n",
    "radiance_ESUN = \\\n",
    "{\n",
    "    'B2': [radiance_dict['B2'], 2067.0],\n",
    "    'B3': [radiance_dict['B3'], 1893.0],\n",
    "    'B4': [radiance_dict['B4'], 1603.0],\n",
    "    'B5': [radiance_dict['B5'], 972.0]\n",
    "}\n",
    " \n",
    "sun_elevation = image.get('SUN_ELEVATION').getInfo()\n",
    "theta_s = 90.0 - sun_elevation\n",
    "\n",
    "reflectance_dict = Radiance2Reflectance(theta_s, radiance_ESUN)"
   ]
  },
  {
   "cell_type": "markdown",
   "id": "17b48693",
   "metadata": {},
   "source": [
    "\n",
    "## 🖼️ Step 5: Visualize the Results\n",
    "\n",
    "Use `geemap` to create an interactive map. Display:\n",
    "- Original RGB from DN bands\n",
    "- Your manually calculated TOA Reflectance RGB\n",
    "\n",
    "💡 Hint: Use `.clamp(0, 0.4)` on reflectance bands for better visualization.\n"
   ]
  },
  {
   "cell_type": "code",
   "execution_count": 14,
   "id": "96725103",
   "metadata": {},
   "outputs": [
    {
     "data": {
      "application/vnd.jupyter.widget-view+json": {
       "model_id": "e0935c90bb0a4d77a85918ca83f9786f",
       "version_major": 2,
       "version_minor": 0
      },
      "text/plain": [
       "Map(center=[50.094, 19.973], controls=(WidgetControl(options=['position', 'transparent_bg'], widget=SearchData…"
      ]
     },
     "execution_count": 14,
     "metadata": {},
     "output_type": "execute_result"
    }
   ],
   "source": [
    "import geemap\n",
    "reflectance_RGB = ee.Image.cat(\n",
    "    reflectance_dict['B2'].rename('TOA_B2'),\n",
    "    reflectance_dict['B3'].rename('TOA_B3'),\n",
    "    reflectance_dict['B4'].rename('TOA_B4'),\n",
    "    reflectance_dict['B5'].rename('TOA_B5')\n",
    "    )\n",
    "\n",
    "Map = geemap.Map()\n",
    "Map.centerObject(aoi, 12)\n",
    "\n",
    "Map.addLayer(image, {'bands': ['B4', 'B3', 'B2'], 'min': 0, 'max': 10000}, 'RGB') \n",
    "Map.addLayer(image, {'bands': ['B4', 'B3', 'B2'], 'min': 0, 'max': 10000}, 'RGB')\n",
    "Map.addLayer(reflectance_dict['B4'].clamp(0,0.4),{},'Reflectance B4')\n",
    "Map.addLayer(reflectance_dict['B3'].clamp(0,0.4), {}, 'Reflectance B3')\n",
    "Map.addLayer(reflectance_dict['B2'].clamp(0,0.4), {}, 'Reflectance B2')\n",
    "Map.addLayer(reflectance_RGB.clamp(0,0.4), {'bands': ['TOA_B4', 'TOA_B3', 'TOA_B2'], 'min': 0, 'max': 0.4}, 'Reflectance RGB')\n",
    "\n",
    "Map"
   ]
  },
  {
   "cell_type": "markdown",
   "id": "211ece04",
   "metadata": {},
   "source": [
    "\n",
    "## 🧪 Optional Extensions\n",
    "\n",
    "- Try the same workflow on a different city or biome (e.g., desert, rainforest).\n",
    "- Add NIR band to your analysis (B5).\n",
    "- Compute NDVI from TOA or compare with Surface Reflectance data.\n",
    "- Export the resulting reflectance image to Google Drive.\n"
   ]
  }
 ],
 "metadata": {
  "kernelspec": {
   "display_name": "eo_lab",
   "language": "python",
   "name": "python3"
  },
  "language_info": {
   "codemirror_mode": {
    "name": "ipython",
    "version": 3
   },
   "file_extension": ".py",
   "mimetype": "text/x-python",
   "name": "python",
   "nbconvert_exporter": "python",
   "pygments_lexer": "ipython3",
   "version": "3.9.21"
  }
 },
 "nbformat": 4,
 "nbformat_minor": 5
}
