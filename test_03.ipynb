{
 "cells": [
  {
   "cell_type": "code",
   "execution_count": 1,
   "metadata": {},
   "outputs": [
    {
     "name": "stdout",
     "output_type": "stream",
     "text": [
      "{'type': 'Image', 'bands': [{'id': 'B1', 'data_type': {'type': 'PixelType', 'precision': 'double', 'min': 0, 'max': 65535}, 'dimensions': [2, 2], 'origin': [23, 50], 'crs': 'EPSG:4326', 'crs_transform': [1, 0, 0, 0, 1, 0]}, {'id': 'B2', 'data_type': {'type': 'PixelType', 'precision': 'double', 'min': 0, 'max': 65535}, 'dimensions': [2, 2], 'origin': [23, 50], 'crs': 'EPSG:4326', 'crs_transform': [1, 0, 0, 0, 1, 0]}, {'id': 'B3', 'data_type': {'type': 'PixelType', 'precision': 'double', 'min': 0, 'max': 65535}, 'dimensions': [2, 2], 'origin': [23, 50], 'crs': 'EPSG:4326', 'crs_transform': [1, 0, 0, 0, 1, 0]}, {'id': 'B4', 'data_type': {'type': 'PixelType', 'precision': 'double', 'min': 0, 'max': 65535}, 'dimensions': [2, 2], 'origin': [23, 50], 'crs': 'EPSG:4326', 'crs_transform': [1, 0, 0, 0, 1, 0]}, {'id': 'B5', 'data_type': {'type': 'PixelType', 'precision': 'double', 'min': 0, 'max': 65535}, 'dimensions': [2, 2], 'origin': [23, 50], 'crs': 'EPSG:4326', 'crs_transform': [1, 0, 0, 0, 1, 0]}, {'id': 'B6', 'data_type': {'type': 'PixelType', 'precision': 'double', 'min': 0, 'max': 65535}, 'dimensions': [2, 2], 'origin': [23, 50], 'crs': 'EPSG:4326', 'crs_transform': [1, 0, 0, 0, 1, 0]}, {'id': 'B7', 'data_type': {'type': 'PixelType', 'precision': 'double', 'min': 0, 'max': 65535}, 'dimensions': [2, 2], 'origin': [23, 50], 'crs': 'EPSG:4326', 'crs_transform': [1, 0, 0, 0, 1, 0]}, {'id': 'B8', 'data_type': {'type': 'PixelType', 'precision': 'double', 'min': 0, 'max': 65535}, 'dimensions': [2, 2], 'origin': [23, 50], 'crs': 'EPSG:4326', 'crs_transform': [1, 0, 0, 0, 1, 0]}, {'id': 'B8A', 'data_type': {'type': 'PixelType', 'precision': 'double', 'min': 0, 'max': 65535}, 'dimensions': [2, 2], 'origin': [23, 50], 'crs': 'EPSG:4326', 'crs_transform': [1, 0, 0, 0, 1, 0]}, {'id': 'B9', 'data_type': {'type': 'PixelType', 'precision': 'double', 'min': 0, 'max': 65535}, 'dimensions': [2, 2], 'origin': [23, 50], 'crs': 'EPSG:4326', 'crs_transform': [1, 0, 0, 0, 1, 0]}, {'id': 'B10', 'data_type': {'type': 'PixelType', 'precision': 'double', 'min': 0, 'max': 65535}, 'dimensions': [2, 2], 'origin': [23, 50], 'crs': 'EPSG:4326', 'crs_transform': [1, 0, 0, 0, 1, 0]}, {'id': 'B11', 'data_type': {'type': 'PixelType', 'precision': 'double', 'min': 0, 'max': 65535}, 'dimensions': [2, 2], 'origin': [23, 50], 'crs': 'EPSG:4326', 'crs_transform': [1, 0, 0, 0, 1, 0]}, {'id': 'B12', 'data_type': {'type': 'PixelType', 'precision': 'double', 'min': 0, 'max': 65535}, 'dimensions': [2, 2], 'origin': [23, 50], 'crs': 'EPSG:4326', 'crs_transform': [1, 0, 0, 0, 1, 0]}, {'id': 'QA10', 'data_type': {'type': 'PixelType', 'precision': 'double', 'min': 0, 'max': 65535}, 'dimensions': [2, 2], 'origin': [23, 50], 'crs': 'EPSG:4326', 'crs_transform': [1, 0, 0, 0, 1, 0]}, {'id': 'QA20', 'data_type': {'type': 'PixelType', 'precision': 'double', 'min': 0, 'max': 4294967295}, 'dimensions': [2, 2], 'origin': [23, 50], 'crs': 'EPSG:4326', 'crs_transform': [1, 0, 0, 0, 1, 0]}, {'id': 'QA60', 'data_type': {'type': 'PixelType', 'precision': 'double', 'min': 0, 'max': 65535}, 'dimensions': [2, 2], 'origin': [23, 50], 'crs': 'EPSG:4326', 'crs_transform': [1, 0, 0, 0, 1, 0]}, {'id': 'MSK_CLASSI_OPAQUE', 'data_type': {'type': 'PixelType', 'precision': 'double', 'min': 0, 'max': 255}, 'dimensions': [2, 2], 'origin': [23, 50], 'crs': 'EPSG:4326', 'crs_transform': [1, 0, 0, 0, 1, 0]}, {'id': 'MSK_CLASSI_CIRRUS', 'data_type': {'type': 'PixelType', 'precision': 'double', 'min': 0, 'max': 255}, 'dimensions': [2, 2], 'origin': [23, 50], 'crs': 'EPSG:4326', 'crs_transform': [1, 0, 0, 0, 1, 0]}, {'id': 'MSK_CLASSI_SNOW_ICE', 'data_type': {'type': 'PixelType', 'precision': 'double', 'min': 0, 'max': 255}, 'dimensions': [2, 2], 'origin': [23, 50], 'crs': 'EPSG:4326', 'crs_transform': [1, 0, 0, 0, 1, 0]}], 'properties': {'system:footprint': {'type': 'Polygon', 'coordinates': [[[23.55, 50.7], [24, 50.7], [24, 51], [23.55, 51], [23.55, 50.7]]]}}}\n"
     ]
    },
    {
     "name": "stderr",
     "output_type": "stream",
     "text": [
      "/home/mamil/miniconda3/envs/eo_lab/lib/python3.9/site-packages/ee/deprecation.py:207: DeprecationWarning: \n",
      "\n",
      "Attention required for COPERNICUS/S2! You are using a deprecated asset.\n",
      "To make sure your code keeps working, please update it.\n",
      "Learn more: https://developers.google.com/earth-engine/datasets/catalog/COPERNICUS_S2\n",
      "\n",
      "  warnings.warn(warning, category=DeprecationWarning)\n"
     ]
    },
    {
     "data": {
      "application/vnd.jupyter.widget-view+json": {
       "model_id": "f3f4c0c5845d4b0b80cc4bdf0df8006d",
       "version_major": 2,
       "version_minor": 0
      },
      "text/plain": [
       "Map(center=[50.903603, 23.787745], controls=(ZoomControl(options=['position', 'zoom_in_text', 'zoom_in_title',…"
      ]
     },
     "execution_count": 1,
     "metadata": {},
     "output_type": "execute_result"
    }
   ],
   "source": [
    "import ee\n",
    "import geemap\n",
    "from geoapps.geoapps.lab03.cloud_mosaic import create_cloud_free_mosaic\n",
    "\n",
    "ee.Initialize(project = 'ee-kamilmolo13')\n",
    "aoi = ee.Geometry.Rectangle([23.55, 50.7, 24, 51])\n",
    "mosaic = create_cloud_free_mosaic(aoi, '2023-07-01', '2023-08-01')\n",
    "print(mosaic.getInfo())\n",
    "test_image = ee.ImageCollection('COPERNICUS/S2') \\\n",
    "    .filterDate('2023-07-01', '2023-08-01') \\\n",
    "    .filterBounds(aoi) \\\n",
    "    .median().clip(aoi)\n",
    "\n",
    "Map = geemap.Map(center=[ 50.903603, 23.787745], zoom=10)\n",
    "\n",
    "right_layer = geemap.ee_tile_layer(mosaic, {'bands': ['B4', 'B3', 'B2'], 'min': 0, 'max': 3000}, 'Mosaic')\n",
    "left_layer = geemap.ee_tile_layer(test_image, {'bands': ['B4', 'B3', 'B2'], 'min': 0, 'max': 3000}, 'Test Layer')\n",
    "Map.split_map(left_layer, right_layer)\n",
    "\n",
    "Map"
   ]
  }
 ],
 "metadata": {
  "kernelspec": {
   "display_name": "eo_lab",
   "language": "python",
   "name": "python3"
  },
  "language_info": {
   "codemirror_mode": {
    "name": "ipython",
    "version": 3
   },
   "file_extension": ".py",
   "mimetype": "text/x-python",
   "name": "python",
   "nbconvert_exporter": "python",
   "pygments_lexer": "ipython3",
   "version": "3.9.21"
  }
 },
 "nbformat": 4,
 "nbformat_minor": 2
}
